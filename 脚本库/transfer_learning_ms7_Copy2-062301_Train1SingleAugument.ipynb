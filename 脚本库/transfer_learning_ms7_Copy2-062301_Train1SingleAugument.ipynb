{
 "cells": [
  {
   "cell_type": "code",
   "execution_count": 1,
   "metadata": {},
   "outputs": [],
   "source": [
    "# #  经过数据增广的图片分门别类 训练集和验证集 4：1\n",
    "# import os,shutil,glob\n",
    "# import numpy as np\n",
    "# path_from = os.path.abspath(r'E:\\gmd_data\\2022062301\\16cut3_Train1_Augu')\t#图片原来位置的位置\n",
    "# path_target = os.path.abspath(r'E:\\gmd_data\\2022_06_23_01_Train1_Augumented\\train')\t#图片移动到的位置\n",
    "# path_target2 = os.path.abspath(r'E:\\gmd_data\\2022_06_23_01_Train1_Augumented\\valid')\t#图片移动到的位置\n",
    "# path_targetmodels = os.path.abspath(r'E:\\gmd_data\\2022_06_23_01_Train1_Augumented\\models')\t#图片移动到的位置\n",
    "# isExists = os.path.exists(path_targetmodels)\n",
    "# if not isExists:\t\t\t\t\t\t# 判断如果文件不存在,则创建\n",
    "#     os.makedirs(path_targetmodels)       # 创建文件夹\n",
    "\n",
    "# for i in range(10783,21183,8): #这里创建626个文件夹 步进8：5nm\n",
    "#     # *定义一个变量判断文件是否存在,path指代路径,str(i)指代文件夹的名字*\n",
    "#     isExists = os.path.exists(path_target+\"\\\\\"+str(i))\n",
    "#     if not isExists:\t\t\t\t\t\t# 判断如果文件不存在,则创建\n",
    "#         os.makedirs(path_target+\"\\\\\"+str(i))       # 创建文件夹\n",
    "#     isExists = os.path.exists(path_target2+\"\\\\\"+str(i))\n",
    "#     if not isExists:\t\t\t\t\t\t# 判断如果文件不存在,则创建\n",
    "#         os.makedirs(path_target2+\"\\\\\"+str(i))       # 创建文件夹\n",
    "\n",
    "#     fns = glob.glob(path_from+'\\\\'+str(i)+'_'+'*.png') # 每一个高度的图片 读取一次\n",
    "#     # print(fns)\n",
    "#     for ind in range(len(fns)): # 列表中的每一张图循环一次\n",
    "#         dir,fn = os.path.split(fns[ind])  # 分离路径和文件名\n",
    "#         if ind < len(fns)*0.8:\n",
    "#             dstfn = path_target+'\\\\'+str(i)+'\\\\'+fn  # 生成目标目录下的新文件名\n",
    "#             isExists = os.path.exists(dstfn)\n",
    "#             if not isExists:\t\t\t\t\t\t# 判断如果文件不存在,则创建\n",
    "#                 shutil.copy(fns[ind],dstfn) \n",
    "#                 # print('ok',dstfn)\n",
    "#         else:\n",
    "#             dstfn = path_target2+'\\\\'+str(i)+'\\\\'+fn  # 生成目标目录下的新文件名\n",
    "#             isExists = os.path.exists(dstfn)\n",
    "#             if not isExists:\t\t\n",
    "#                 shutil.copy(fns[ind],dstfn) \n",
    "#                 # print('ok',dstfn)"
   ]
  },
  {
   "cell_type": "code",
   "execution_count": 2,
   "metadata": {
    "colab": {
     "base_uri": "https://localhost:8080/"
    },
    "id": "yH27CHe0mv_7",
    "outputId": "61c7eea8-0088-49d9-f089-12531ff86e13"
   },
   "outputs": [],
   "source": [
    "# from google.colab import drive\n",
    "# drive.mount('/content/drive')"
   ]
  },
  {
   "cell_type": "code",
   "execution_count": 3,
   "metadata": {
    "id": "Z3FIPYrAZwbY"
   },
   "outputs": [],
   "source": [
    "%matplotlib inline"
   ]
  },
  {
   "cell_type": "markdown",
   "metadata": {
    "id": "eOJK_uNaZwba"
   },
   "source": [
    "\n",
    "Transfer Learning for Computer Vision Tutorial\n",
    "==============================================\n",
    "\n",
    "These two major transfer learning scenarios look as follows:\n",
    "\n",
    "-  **Finetuning the convnet**: Instead of random initialization, we\n",
    "   initialize the network with a pretrained network, like the one that is\n",
    "   trained on imagenet 1000 dataset. Rest of the training looks as\n",
    "   usual.\n",
    "-  **ConvNet as fixed feature extractor**: Here, we will freeze the weights\n",
    "   for all of the network except that of the final fully connected\n",
    "   layer. This last fully connected layer is replaced with a new one\n",
    "   with random weights and only this layer is trained.\n"
   ]
  },
  {
   "cell_type": "code",
   "execution_count": 4,
   "metadata": {
    "id": "Wih7PFZmZwbc"
   },
   "outputs": [],
   "source": [
    "from __future__ import print_function, division\n",
    "\n",
    "import torch\n",
    "import torch.nn as nn\n",
    "import torch.optim as optim\n",
    "from torch.utils.data import DataLoader\n",
    "from torch.optim import lr_scheduler\n",
    "import torch.backends.cudnn as cudnn\n",
    "import numpy as np\n",
    "import torchvision\n",
    "from torchvision import datasets, models, transforms\n",
    "import matplotlib.pyplot as plt\n",
    "import time\n",
    "import os\n",
    "import copy\n",
    "\n",
    "cudnn.benchmark = True\n",
    "plt.ion()   # interactive mode"
   ]
  },
  {
   "cell_type": "markdown",
   "metadata": {
    "id": "CgOZkRB3Zwbc"
   },
   "source": [
    "Load Data\n",
    "---------\n",
    "\n",
    "We will use torchvision and torch.utils.data packages for loading the\n",
    "data.\n",
    "\n",
    "The problem we're going to solve today is to train a model to classify\n",
    "**ants** and **bees**. We have about 120 training images each for ants and bees.\n",
    "There are 75 validation images for each class. Usually, this is a very\n",
    "small dataset to generalize upon, if trained from scratch. Since we\n",
    "are using transfer learning, we should be able to generalize reasonably\n",
    "well.\n",
    "\n",
    "This dataset is a very small subset of imagenet.\n",
    "\n",
    ".. Note ::\n",
    "   Download the data from\n",
    "   `here <https://download.pytorch.org/tutorial/hymenoptera_data.zip>`_\n",
    "   and extract it to the current directory.\n",
    "\n"
   ]
  },
  {
   "cell_type": "code",
   "execution_count": 5,
   "metadata": {
    "colab": {
     "base_uri": "https://localhost:8080/",
     "height": 401
    },
    "id": "_fGla5k3Zwbd",
    "outputId": "0228cd54-ab59-4bc4-f47a-a3b3d406bf00"
   },
   "outputs": [
    {
     "name": "stdout",
     "output_type": "stream",
     "text": [
      "1258304 314576\n"
     ]
    }
   ],
   "source": [
    "# Data augmentation and normalization for training\n",
    "# Just normalization for validation\n",
    "image_transforms  = {\n",
    "    'train': transforms.Compose([\n",
    "        # transforms.RandomResizedCrop(size=256, scale=(0.8, 1.0)),\n",
    "        # transforms.RandomRotation(degrees = 45),\n",
    "        # transforms.RandomHorizontalFlip(),\n",
    "        transforms.Resize(size=256),\n",
    "        transforms.CenterCrop(size=224),\n",
    "        transforms.ToTensor(),\n",
    "        transforms.Normalize([0.485, 0.456, 0.406], [0.229, 0.224, 0.225])\n",
    "    ]),\n",
    "    'valid': transforms.Compose([\n",
    "        transforms.Resize(size=256),\n",
    "        transforms.CenterCrop(size=224),\n",
    "        transforms.ToTensor(),\n",
    "        transforms.Normalize([0.485, 0.456, 0.406], [0.229, 0.224, 0.225])\n",
    "    ])\n",
    "}\n",
    "\n",
    "# dataset = 'E:\\gmd_data\\microsphere2_dataAugmented'\n",
    "dataset = 'E:\\gmd_data\\\\2022_06_23_01_Train1_Augumented'\n",
    "train_directory = os.path.join(dataset, 'train')\n",
    "valid_directory = os.path.join(dataset, 'valid')\n",
    "\n",
    "batch_size = 32\n",
    "# num_classes = 173\n",
    "\n",
    "data = {\n",
    "    'train': datasets.ImageFolder(root=train_directory, transform=image_transforms['train']),\n",
    "    'valid': datasets.ImageFolder(root=valid_directory, transform=image_transforms['valid'])\n",
    "\n",
    "}\n",
    "\n",
    "\n",
    "train_data_size = len(data['train'])\n",
    "valid_data_size = len(data['valid'])\n",
    "\n",
    "train_data = DataLoader(data['train'], batch_size=batch_size, shuffle=True)\n",
    "valid_data = DataLoader(data['valid'], batch_size=batch_size, shuffle=True)\n",
    "\n",
    "print(train_data_size, valid_data_size)"
   ]
  },
  {
   "cell_type": "markdown",
   "metadata": {
    "id": "NKqC2LN2Zwbd"
   },
   "source": [
    "迁移学习\n",
    "---------\n",
    "\n",
    "\n",
    "这里使用ResNet-50的预训练模型。\n"
   ]
  },
  {
   "cell_type": "code",
   "execution_count": 6,
   "metadata": {
    "id": "o6u40PdzZwbe"
   },
   "outputs": [],
   "source": [
    "resnet50 = models.resnet50(pretrained=True)\n",
    "\n",
    "for param in resnet50.parameters():\n",
    "    param.requires_grad = True\n",
    "\n",
    "fc_inputs = resnet50.fc.in_features\n",
    "resnet50.fc = nn.Sequential(\n",
    "    nn.Linear(fc_inputs, 1300),\n",
    "    nn.LogSoftmax(dim = 1)\n",
    "\n",
    "\n",
    ")\n",
    "resnet50 = resnet50.to('cuda:0')\n",
    "loss_func = nn.NLLLoss()\n",
    "# optimizer = optim.AdamW(resnet50.parameters(),lr=1e-4)"
   ]
  },
  {
   "cell_type": "markdown",
   "metadata": {
    "id": "4co9ExtXZwbe"
   },
   "source": [
    "Training the model\n",
    "------------------\n",
    "\n",
    "Now, let's write a general function to train a model. Here, we will\n",
    "illustrate:\n",
    "\n",
    "-  Scheduling the learning rate\n",
    "-  Saving the best model\n",
    "\n",
    "In the following, parameter ``scheduler`` is an LR scheduler object from\n",
    "``torch.optim.lr_scheduler``.\n",
    "\n"
   ]
  },
  {
   "cell_type": "code",
   "execution_count": 7,
   "metadata": {
    "id": "9O0-Tn9PgT8u",
    "scrolled": true
   },
   "outputs": [
    {
     "name": "stdout",
     "output_type": "stream",
     "text": [
      "Epoch: 1/1\n",
      "Epoch: 001, Training: Loss: 0.6670, Accuracy: 81.0272%, \n",
      "\t\tValidation: Loss: 2.2366, Accuracy: 61.4462%, Time: 75279.0264s\n",
      "Best Accuracy for validation : 0.6145 at epoch 001\n",
      "Validation: MAE: 1.0494, Percentage of points retained:95.6933% \n"
     ]
    },
    {
     "data": {
      "image/png": "[encoded data removed]",
      "text/plain": [
       "<Figure size 432x288 with 1 Axes>"
      ]
     },
     "metadata": {
      "needs_background": "light"
     },
     "output_type": "display_data"
    },
    {
     "data": {
      "image/png": "[encoded data removed]",
      "text/plain": [
       "<Figure size 432x288 with 1 Axes>"
      ]
     },
     "metadata": {
      "needs_background": "light"
     },
     "output_type": "display_data"
    }
   ],
   "source": [
    "model = resnet50\n",
    "loss_function = loss_func\n",
    "epochs = 1 # 7个可能比较合适\n",
    "# LR_value = 1e-4\n",
    "LR_value = 1e-4\n",
    "# trained_model, history = train_and_valid(resnet50, loss_func, num_epochs)\n",
    "# torch.save(history, 'models/'+dataset+'_history.pt')\n",
    "device = torch.device(\"cuda:0\" if torch.cuda.is_available() else \"cpu\")\n",
    "history = []\n",
    "best_acc = 0.0\n",
    "best_epoch = 0\n",
    "\n",
    "for epoch in range(epochs):\n",
    "    epoch_start = time.time()\n",
    "    print(\"Epoch: {}/{}\".format(epoch+1, epochs))\n",
    "\n",
    "    model.train()\n",
    "\n",
    "    train_loss = 0.0\n",
    "    train_acc = 0.0\n",
    "    valid_loss = 0.0\n",
    "    valid_acc = 0.0\n",
    "#         学习率递减\n",
    "    if epoch <= 1:\n",
    "        LR = LR_value;\n",
    "    elif epoch <= 2:\n",
    "        LR = LR_value*0.5;\n",
    "    elif epoch <= 3:\n",
    "        LR = LR_value*0.5*0.5;\n",
    "    elif epoch <= 4:\n",
    "        LR = LR_value*0.5*0.5*0.5;\n",
    "    else:\n",
    "        LR = LR_value*0.5*0.5*0.5*0.5;\n",
    "    optimizer = optim.AdamW(resnet50.parameters(),lr=LR)\n",
    "\n",
    "    for i, (inputs, labels) in enumerate(train_data):\n",
    "        inputs = inputs.to(device)\n",
    "        labels = labels.to(device)\n",
    "\n",
    "        #因为这里梯度是累加的，所以每次记得清零\n",
    "        optimizer.zero_grad()\n",
    "\n",
    "        outputs = model(inputs)\n",
    "\n",
    "        loss = loss_function(outputs, labels)\n",
    "\n",
    "        loss.backward()\n",
    "\n",
    "        optimizer.step()\n",
    "\n",
    "        train_loss += loss.item() * inputs.size(0)\n",
    "\n",
    "        ret, predictions = torch.max(outputs.data, 1)\n",
    "        correct_counts = predictions.eq(labels.data.view_as(predictions))\n",
    "\n",
    "        acc = torch.mean(correct_counts.type(torch.FloatTensor))\n",
    "\n",
    "        train_acc += acc.item() * inputs.size(0)\n",
    "\n",
    "    with torch.no_grad():\n",
    "        model.eval()\n",
    "        predictions_all = torch.tensor([]).to(device)\n",
    "        labels_all = torch.tensor([]).to(device)\n",
    "\n",
    "        for j, (inputs, labels) in enumerate(valid_data):\n",
    "            inputs = inputs.to(device)\n",
    "            labels = labels.to(device)\n",
    "\n",
    "            outputs = model(inputs)\n",
    "\n",
    "            loss = loss_function(outputs, labels)\n",
    "\n",
    "            valid_loss += loss.item() * inputs.size(0)\n",
    "\n",
    "            ret, predictions = torch.max(outputs.data, 1)\n",
    "            correct_counts = predictions.eq(labels.data.view_as(predictions))\n",
    "\n",
    "            predictions_all = torch.cat((predictions_all,predictions),dim=0)\n",
    "            labels_all = torch.cat((labels_all,labels),dim=0)\n",
    "\n",
    "            acc = torch.mean(correct_counts.type(torch.FloatTensor))\n",
    "\n",
    "            valid_acc += acc.item() * inputs.size(0)\n",
    "\n",
    "    avg_train_loss = train_loss/train_data_size\n",
    "    avg_train_acc = train_acc/train_data_size\n",
    "\n",
    "    avg_valid_loss = valid_loss/valid_data_size\n",
    "    avg_valid_acc = valid_acc/valid_data_size\n",
    "\n",
    "    history.append([avg_train_loss, avg_valid_loss, avg_train_acc, avg_valid_acc])\n",
    "\n",
    "    if best_acc < avg_valid_acc:\n",
    "        best_acc = avg_valid_acc\n",
    "        best_epoch = epoch + 1\n",
    "\n",
    "    epoch_end = time.time()\n",
    "\n",
    "    print(\"Epoch: {:03d}, Training: Loss: {:.4f}, Accuracy: {:.4f}%, \\n\\t\\tValidation: Loss: {:.4f}, Accuracy: {:.4f}%, Time: {:.4f}s\".format(\n",
    "        epoch+1, avg_train_loss, avg_train_acc*100, avg_valid_loss, avg_valid_acc*100, epoch_end-epoch_start\n",
    "    ))\n",
    "    print(\"Best Accuracy for validation : {:.4f} at epoch {:03d}\".format(best_acc, best_epoch))\n",
    "\n",
    "    torch.save(model, dataset+'/models/'+'model_'+str(epoch+1)+'.pt')\n",
    "\n",
    "    diff = predictions_all - labels_all\n",
    "   # conc_all = torch.cat((labels_all,predictions_all,diff),dim=0)\n",
    "    device = torch.device(\"cpu\")\n",
    "    diff_small = diff[(diff>-10)&(diff<10)].to(device)\n",
    "    diff_rate = len(diff_small)/len(diff)\n",
    "    DIFF_MAE = np.linalg.norm(diff_small, ord = 1) / len(diff_small)\n",
    "    print(\"Validation: MAE: {:.4f}, Percentage of points retained:{:.4f}% \".format(\n",
    "        DIFF_MAE, diff_rate*100\n",
    "        ))\n",
    "\n",
    "    fig, ax = plt.subplots()\n",
    "    plt.scatter(labels_all.cpu(),diff.cpu(),s=5)\n",
    "    # plt.legend(['Tr Accuracy', 'Val Accuracy'])\n",
    "    plt.xlabel('labels /5nm')\n",
    "    plt.ylabel('diff /5nm')\n",
    "    # plt.ylim(0, 1)\n",
    "    # plt.savefig(\"C:\\\\Users\\\\nanolab115\\Desktop\\\\\"+\"diff1.png\")\n",
    "    plt.show()\n",
    "    fig.savefig('Diff_2022_06_23_01_Train1SingleAugument_16_step5_cut3DataSet.svg',dpi = 300, format = 'svg')\n",
    "\n",
    "    fig, ax = plt.subplots()\n",
    "    plt.scatter(labels_all.cpu(),predictions_all.cpu(),s=5)\n",
    "    # plt.legend(['Tr Accuracy', 'Val Accuracy'])\n",
    "    plt.xlabel('labels /5nm')\n",
    "    plt.ylabel('predictions /5nm')\n",
    "    # plt.ylim(0, 1)\n",
    "    # plt.savefig(\"C:\\\\Users\\\\nanolab115\\Desktop\\\\\"+\"diff1.png\")\n",
    "    plt.show()\n",
    "    fig.savefig('Predictions_2022_06_23_01_Train1SingleAugument_16_step5_cut3DataSet.svg',dpi = 300, format = 'svg')\n"
   ]
  },
  {
   "cell_type": "code",
   "execution_count": 8,
   "metadata": {},
   "outputs": [
    {
     "data": {
      "image/png": "[encoded data removed]",
      "text/plain": [
       "<Figure size 432x288 with 1 Axes>"
      ]
     },
     "metadata": {
      "needs_background": "light"
     },
     "output_type": "display_data"
    },
    {
     "data": {
      "image/png": "[encoded data removed]",
      "text/plain": [
       "<Figure size 432x288 with 1 Axes>"
      ]
     },
     "metadata": {
      "needs_background": "light"
     },
     "output_type": "display_data"
    }
   ],
   "source": [
    "history = np.array(history)\n",
    "plt.plot(history[:, 0:2])\n",
    "plt.legend(['Tr Loss', 'Val Loss'])\n",
    "plt.xlabel('Epoch Number')\n",
    "plt.ylabel('Loss')\n",
    "# plt.ylim(0, 1)\n",
    "plt.savefig(dataset+'_loss_curve.png')\n",
    "plt.show()\n",
    "\n",
    "plt.plot(history[:, 2:4])\n",
    "plt.legend(['Tr Accuracy', 'Val Accuracy'])\n",
    "plt.xlabel('Epoch Number')\n",
    "plt.ylabel('Accuracy')\n",
    "plt.ylim(0, 1)\n",
    "plt.savefig(dataset+'_accuracy_curve.png')\n",
    "plt.show()"
   ]
  },
  {
   "cell_type": "markdown",
   "metadata": {},
   "source": [
    "导入模型 将验证集和真值对比图画出来\n",
    "-------"
   ]
  },
  {
   "cell_type": "code",
   "execution_count": 9,
   "metadata": {
    "scrolled": true
   },
   "outputs": [
    {
     "ename": "RuntimeError",
     "evalue": "CUDA error: device-side assert triggered\nCUDA kernel errors might be asynchronously reported at some other API call,so the stacktrace below might be incorrect.\nFor debugging consider passing CUDA_LAUNCH_BLOCKING=1.",
     "output_type": "error",
     "traceback": [
      "\u001b[1;31m---------------------------------------------------------------------------\u001b[0m",
      "\u001b[1;31mRuntimeError\u001b[0m                              Traceback (most recent call last)",
      "\u001b[1;32mC:\\Users\\NANOLA~1\\AppData\\Local\\Temp/ipykernel_27568/2354150024.py\u001b[0m in \u001b[0;36m<module>\u001b[1;34m\u001b[0m\n\u001b[0;32m     33\u001b[0m     \u001b[1;31m# print(loss)\u001b[0m\u001b[1;33m\u001b[0m\u001b[1;33m\u001b[0m\u001b[1;33m\u001b[0m\u001b[0m\n\u001b[0;32m     34\u001b[0m \u001b[1;33m\u001b[0m\u001b[0m\n\u001b[1;32m---> 35\u001b[1;33m     \u001b[0mvalid_loss\u001b[0m \u001b[1;33m+=\u001b[0m \u001b[0mloss\u001b[0m\u001b[1;33m.\u001b[0m\u001b[0mitem\u001b[0m\u001b[1;33m(\u001b[0m\u001b[1;33m)\u001b[0m \u001b[1;33m*\u001b[0m \u001b[0minputs\u001b[0m\u001b[1;33m.\u001b[0m\u001b[0msize\u001b[0m\u001b[1;33m(\u001b[0m\u001b[1;36m0\u001b[0m\u001b[1;33m)\u001b[0m\u001b[1;33m\u001b[0m\u001b[1;33m\u001b[0m\u001b[0m\n\u001b[0m\u001b[0;32m     36\u001b[0m \u001b[1;33m\u001b[0m\u001b[0m\n\u001b[0;32m     37\u001b[0m     \u001b[0mret\u001b[0m\u001b[1;33m,\u001b[0m \u001b[0mpredictions\u001b[0m \u001b[1;33m=\u001b[0m \u001b[0mtorch\u001b[0m\u001b[1;33m.\u001b[0m\u001b[0mmax\u001b[0m\u001b[1;33m(\u001b[0m\u001b[0moutputs\u001b[0m\u001b[1;33m.\u001b[0m\u001b[0mdata\u001b[0m\u001b[1;33m,\u001b[0m \u001b[1;36m1\u001b[0m\u001b[1;33m)\u001b[0m\u001b[1;33m\u001b[0m\u001b[1;33m\u001b[0m\u001b[0m\n",
      "\u001b[1;31mRuntimeError\u001b[0m: CUDA error: device-side assert triggered\nCUDA kernel errors might be asynchronously reported at some other API call,so the stacktrace below might be incorrect.\nFor debugging consider passing CUDA_LAUNCH_BLOCKING=1."
     ]
    }
   ],
   "source": [
    "# 导入模型 将验证集和真值对比图画出来\n",
    "dataset = 'E:\\gmd_data\\\\2022_05_17_05_Train1_Augumented'\n",
    "model38 = torch.load( dataset+'/models/'+'model_7.pt')\n",
    "for param in model38.parameters():\n",
    "    param.requires_grad = False\n",
    "model38 = model38.to('cuda:0')\n",
    "loss_function = nn.NLLLoss()\n",
    "\n",
    "device = torch.device(\"cuda:0\" if torch.cuda.is_available() else \"cpu\")\n",
    "history = []\n",
    "best_acc = 0.0\n",
    "best_epoch = 0\n",
    "\n",
    "valid_loss = 0.0\n",
    "valid_acc = 0.0\n",
    "\n",
    "predictions_all = torch.tensor([]).to(device)\n",
    "labels_all = torch.tensor([]).to(device)\n",
    "model38.eval()\n",
    "for j, (inputs, labels) in enumerate(valid_data):\n",
    "    inputs = inputs.to(device)\n",
    "    labels = labels.to(device)\n",
    "\n",
    "    outputs = model38(inputs)\n",
    "\n",
    "    loss = loss_function(outputs, labels)\n",
    "    # print(\"valid_data_j: {}\".format(j))\n",
    "    # print(\"Outputs : \")\n",
    "    # print(outputs)\n",
    "    # print(\"labels ：\")\n",
    "    # print(labels)\n",
    "    # print(\"loss ：\")\n",
    "    # print(loss)\n",
    "\n",
    "    valid_loss += loss.item() * inputs.size(0)\n",
    "\n",
    "    ret, predictions = torch.max(outputs.data, 1)\n",
    "\n",
    "    predictions_all = torch.cat((predictions_all,predictions),dim=0)\n",
    "    labels_all = torch.cat((labels_all,labels),dim=0)\n",
    "\n",
    "    correct_counts = predictions.eq(labels.data.view_as(predictions))\n",
    "\n",
    "    acc = torch.mean(correct_counts.type(torch.FloatTensor))\n",
    "\n",
    "    valid_acc += acc.item() * inputs.size(0)\n",
    "\n",
    "avg_valid_loss = valid_loss/valid_data_size\n",
    "avg_valid_acc = valid_acc/valid_data_size"
   ]
  },
  {
   "cell_type": "markdown",
   "metadata": {},
   "source": [
    "验证集 结果：准确率、误差图像\n",
    "-"
   ]
  },
  {
   "cell_type": "code",
   "execution_count": null,
   "metadata": {},
   "outputs": [
    {
     "name": "stdout",
     "output_type": "stream",
     "text": [
      "Validation: Loss: 6.8755, Accuracy: 50.7764%\n",
      "Validation: MAE: 0.9819, Percentage of points retained:63.0826% \n"
     ]
    },
    {
     "data": {
      "image/png": "[encoded data removed]",
      "text/plain": [
       "<Figure size 432x288 with 1 Axes>"
      ]
     },
     "metadata": {
      "needs_background": "light"
     },
     "output_type": "display_data"
    },
    {
     "data": {
      "image/png": "[encoded data removed]",
      "text/plain": [
       "<Figure size 432x288 with 1 Axes>"
      ]
     },
     "metadata": {
      "needs_background": "light"
     },
     "output_type": "display_data"
    }
   ],
   "source": [
    "history.append([avg_valid_loss, avg_valid_acc])\n",
    "\n",
    "print(\"Validation: Loss: {:.4f}, Accuracy: {:.4f}%\".format(\n",
    "    avg_valid_loss, avg_valid_acc*100\n",
    "))\n",
    "# print(\"Validation: MSE: {:.4f}\".format( ))\n",
    "\n",
    "diff = predictions_all - labels_all\n",
    "# conc_all = torch.cat((labels_all,predictions_all,diff),dim=0)\n",
    "device = torch.device(\"cpu\")\n",
    "diff_small = diff[(diff>-10)&(diff<10)].to(device)\n",
    "diff_rate = len(diff_small)/len(diff)\n",
    "DIFF_MAE = np.linalg.norm(diff_small, ord = 1) / len(diff_small)\n",
    "print(\"Validation: MAE: {:.4f}, Percentage of points retained:{:.4f}% \".format(\n",
    "    DIFF_MAE, diff_rate*100\n",
    "    ))\n",
    "\n",
    "fig, ax = plt.subplots()\n",
    "plt.scatter(labels_all.cpu(),diff.cpu(),s=5)\n",
    "# plt.legend(['Tr Accuracy', 'Val Accuracy'])\n",
    "plt.xlabel('labels /5nm')\n",
    "plt.ylabel('diff /5nm')\n",
    "# plt.ylim(0, 1)\n",
    "# plt.savefig(\"C:\\\\Users\\\\nanolab115\\Desktop\\\\\"+\"diff1.png\")\n",
    "plt.show()\n",
    "fig.savefig('Diff_2022_05_17_05_Train1SingleAugument_16_step5_cut3DataSet.svg',dpi = 300, format = 'svg')\n",
    "\n",
    "fig, ax = plt.subplots()\n",
    "plt.scatter(labels_all.cpu(),predictions_all.cpu(),s=5)\n",
    "# plt.legend(['Tr Accuracy', 'Val Accuracy'])\n",
    "plt.xlabel('labels /5nm')\n",
    "plt.ylabel('predictions /5nm')\n",
    "# plt.ylim(0, 1)\n",
    "# plt.savefig(\"C:\\\\Users\\\\nanolab115\\Desktop\\\\\"+\"diff1.png\")\n",
    "plt.show()\n",
    "fig.savefig('Predictions_2022_05_17_05_Train1SingleAugument_16_step5_cut3DataSet.svg',dpi = 300, format = 'svg')"
   ]
  },
  {
   "cell_type": "markdown",
   "metadata": {},
   "source": [
    "测试组：用未训练的 0104-2组 进行测试\n",
    "-"
   ]
  },
  {
   "cell_type": "code",
   "execution_count": null,
   "metadata": {},
   "outputs": [
    {
     "name": "stdout",
     "output_type": "stream",
     "text": [
      "Validation: valid_data_size: 1060.0000\n",
      "Validation: Loss: 931.1962, Accuracy: 0.0000%\n"
     ]
    },
    {
     "data": {
      "image/png": "[encoded data removed]",
      "text/plain": [
       "<Figure size 432x288 with 1 Axes>"
      ]
     },
     "metadata": {
      "needs_background": "light"
     },
     "output_type": "display_data"
    },
    {
     "data": {
      "image/png": "[encoded data removed]",
      "text/plain": [
       "<Figure size 432x288 with 1 Axes>"
      ]
     },
     "metadata": {
      "needs_background": "light"
     },
     "output_type": "display_data"
    }
   ],
   "source": [
    "from __future__ import print_function, division\n",
    "\n",
    "import torch\n",
    "import torch.nn as nn\n",
    "import torch.optim as optim\n",
    "from torch.utils.data import DataLoader\n",
    "from torch.optim import lr_scheduler\n",
    "import torch.backends.cudnn as cudnn\n",
    "import numpy as np\n",
    "import torchvision\n",
    "from torchvision import datasets, models, transforms\n",
    "import matplotlib.pyplot as plt\n",
    "import time\n",
    "import os\n",
    "import copy\n",
    "\n",
    "cudnn.benchmark = True\n",
    "plt.ion()   # interactive mode\n",
    "\n",
    "# Data augmentation and normalization for training\n",
    "# Just normalization for validation\n",
    "image_transforms  = {\n",
    "    'train': transforms.Compose([\n",
    "        transforms.RandomResizedCrop(size=256, scale=(0.8, 1.0)),\n",
    "        transforms.RandomRotation(degrees = 45),\n",
    "        transforms.RandomHorizontalFlip(),\n",
    "        transforms.CenterCrop(size=224),\n",
    "        transforms.ToTensor(),\n",
    "        transforms.Normalize([0.485, 0.456, 0.406], [0.229, 0.224, 0.225])\n",
    "    ]),\n",
    "    'valid': transforms.Compose([\n",
    "        transforms.Resize(size=256),\n",
    "        transforms.CenterCrop(size=224),\n",
    "        transforms.ToTensor(),\n",
    "        transforms.Normalize([0.485, 0.456, 0.406], [0.229, 0.224, 0.225])\n",
    "    ])\n",
    "}\n",
    "\n",
    "# dataset = 'E:\\gmd_data\\microsphere2_dataAugmented'\n",
    "dataset = 'E:\\gmd_data\\GMD_0104_2_DATA' # 测试集 0104-2\n",
    "# dataset = 'E:\\gmd_data\\GMD_0104_3_DATA' # 测试集 0104-3\n",
    "# dataset = 'E:\\gmd_data\\\\fangdai_MixTest' # 防呆测试 0104-2-3混合\n",
    "# dataset = 'E:\\gmd_data\\GMD_0104_2_DATA_TEST' # 测试集 0104-2 50-8650 照明测试\n",
    "\n",
    "# train_directory = os.path.join(dataset, 'train')\n",
    "valid_directory = os.path.join(dataset, 'valid')\n",
    "\n",
    "batch_size = 32\n",
    "# num_classes = 173\n",
    "# class Datset():\n",
    "#     def __getitem(self,index):\n",
    "        \n",
    "#         return image_torch\n",
    "#     def __len__(self):\n",
    "#         pass\n",
    "\n",
    "# data = {\n",
    "#     # 'train': datasets.ImageFolder(root=train_directory, transform=image_transforms['train']),\n",
    "#     'valid':Datset(root=valid_directory, transform=image_transforms['valid'])\n",
    "\n",
    "# }\n",
    "data = {\n",
    "    # 'train': datasets.ImageFolder(root=train_directory, transform=image_transforms['train']),\n",
    "    'valid': datasets.ImageFolder(root=valid_directory, transform=image_transforms['valid'])\n",
    "\n",
    "}\n",
    "\n",
    "\n",
    "\n",
    "# train_data_size = len(data['train'])\n",
    "valid_data_size = len(data['valid'])\n",
    "\n",
    "# train_data = DataLoader(data['train'], batch_size=batch_size, shuffle=True)\n",
    "valid_data = DataLoader(data['valid'], batch_size=batch_size, shuffle=True)\n",
    "\n",
    "print(\"Validation: valid_data_size: {:.4f}\".format(\n",
    "    valid_data_size\n",
    "))\n",
    "\n",
    "\n",
    "# 导入模型 将验证集和真值对比图画出来\n",
    "dataset = 'E:\\gmd_data\\microsphere2_dataAugmented'\n",
    "model38 = torch.load( dataset+'/models/'+'model_38.pt')\n",
    "for param in model38.parameters():\n",
    "    param.requires_grad = False\n",
    "model38 = model38.to('cuda:0')\n",
    "loss_function = nn.NLLLoss()\n",
    "\n",
    "\n",
    "\n",
    "device = torch.device(\"cuda:0\" if torch.cuda.is_available() else \"cpu\")\n",
    "history = []\n",
    "best_acc = 0.0\n",
    "best_epoch = 0\n",
    "\n",
    "\n",
    "valid_loss = 0.0\n",
    "valid_acc = 0.0\n",
    "\n",
    "predictions_all = torch.tensor([]).to(device)\n",
    "labels_all = torch.tensor([]).to(device)\n",
    "\n",
    "with torch.no_grad():\n",
    "    model38.eval()\n",
    "    for j, (inputs, labels) in enumerate(valid_data):\n",
    "        inputs = inputs.to(device)\n",
    "        labels = labels.to(device)\n",
    "\n",
    "        outputs = model38(inputs)\n",
    "\n",
    "        loss = loss_function(outputs, labels)\n",
    "        # print(\"valid_data_j: {}\".format(j))\n",
    "        # print(\"Outputs : \")\n",
    "        # print(outputs)\n",
    "        # print(\"labels ：\")\n",
    "        # print(labels)\n",
    "        # print(\"loss ：\")\n",
    "        # print(loss)\n",
    "\n",
    "        valid_loss += loss.item() * inputs.size(0)\n",
    "\n",
    "        ret, predictions = torch.max(outputs.data, 1)\n",
    "\n",
    "        predictions_all = torch.cat((predictions_all,predictions),dim=0)\n",
    "        labels_all = torch.cat((labels_all,labels),dim=0)\n",
    "\n",
    "        correct_counts = predictions.eq(labels.data.view_as(predictions))\n",
    "\n",
    "        acc = torch.mean(correct_counts.type(torch.FloatTensor))\n",
    "\n",
    "        valid_acc += acc.item() * inputs.size(0)\n",
    "\n",
    "avg_valid_loss = valid_loss/valid_data_size\n",
    "avg_valid_acc = valid_acc/valid_data_size\n",
    "\n",
    "avg_valid_loss = valid_loss/valid_data_size\n",
    "avg_valid_acc = valid_acc/valid_data_size\n",
    "\n",
    "# plot\n",
    "history.append([avg_valid_loss, avg_valid_acc])\n",
    "\n",
    "print(\"Validation: Loss: {:.4f}, Accuracy: {:.4f}%\".format(\n",
    "    avg_valid_loss, avg_valid_acc*100\n",
    "))\n",
    "# print(\"Validation: MSE: {:.4f}\".format( ))\n",
    "\n",
    "diff = predictions_all - labels_all\n",
    "conc_all = torch.cat((labels_all,predictions_all,diff),dim=0)\n",
    "\n",
    "plt.scatter(labels_all[0:50000].cpu(),diff[0:50000].cpu(),s=5)\n",
    "# plt.legend(['Tr Accuracy', 'Val Accuracy'])\n",
    "plt.xlabel('labels')\n",
    "plt.ylabel('diff')\n",
    "# plt.ylim(0, 1)\n",
    "# plt.savefig(\"C:\\\\Users\\\\nanolab115\\Desktop\\\\\"+\"diff1.png\")\n",
    "plt.show()\n",
    "\n",
    "plt.scatter(labels_all.cpu(),predictions_all.cpu(),s=5)\n",
    "# plt.legend(['Tr Accuracy', 'Val Accuracy'])\n",
    "plt.xlabel('labels')\n",
    "plt.ylabel('predictions')\n",
    "# plt.ylim(0, 1)\n",
    "# plt.savefig(\"C:\\\\Users\\\\nanolab115\\Desktop\\\\\"+\"diff1.png\")\n",
    "plt.show()"
   ]
  },
  {
   "cell_type": "markdown",
   "metadata": {},
   "source": [
    "Test Command\n",
    "------\n"
   ]
  },
  {
   "cell_type": "code",
   "execution_count": null,
   "metadata": {},
   "outputs": [
    {
     "name": "stdout",
     "output_type": "stream",
     "text": [
      "num: tensor([168], device='cuda:0') value: tensor([-0.0022], device='cuda:0')\n"
     ]
    }
   ],
   "source": [
    "value,num = torch.max(outputs, 1)\n",
    "print(\"num:\",num,\"value:\",value)\n"
   ]
  },
  {
   "cell_type": "code",
   "execution_count": null,
   "metadata": {},
   "outputs": [
    {
     "name": "stdout",
     "output_type": "stream",
     "text": [
      "outputs: tensor([[-4.9504e+01, -5.5556e+01, -6.4833e+01, -7.4970e+01, -8.5962e+01,\n",
      "         -8.8016e+01, -9.6433e+01, -1.0100e+02, -9.9389e+01, -1.0482e+02,\n",
      "         -1.0389e+02, -4.7640e+01, -8.3659e+01, -7.6490e+01, -6.6539e+01,\n",
      "         -6.6105e+01, -6.2998e+01, -6.6530e+01, -6.1330e+01, -5.6204e+01,\n",
      "         -3.3516e+01, -3.4015e+01, -2.9832e+01, -5.1219e+01, -5.1118e+01,\n",
      "         -7.7792e+01, -8.0729e+01, -8.7210e+01, -7.7605e+01, -1.0523e+02,\n",
      "         -9.8735e+01, -1.0985e+02, -1.2003e+02, -4.8393e+01, -1.2292e+02,\n",
      "         -1.2874e+02, -1.2656e+02, -1.1117e+02, -1.1285e+02, -1.0200e+02,\n",
      "         -9.0714e+01, -8.9426e+01, -7.5569e+01, -6.9013e+01, -4.4566e+01,\n",
      "         -5.4173e+01, -5.0531e+01, -4.3763e+01, -4.0917e+01, -4.7471e+01,\n",
      "         -4.0777e+01, -4.0884e+01, -4.5677e+01, -6.0832e+01, -6.6128e+01,\n",
      "         -3.3768e+01, -6.3326e+01, -8.3918e+01, -8.3963e+01, -7.3704e+01,\n",
      "         -1.0347e+02, -9.3055e+01, -1.0524e+02, -1.1130e+02, -1.0509e+02,\n",
      "         -1.0142e+02, -6.6610e+01, -9.6827e+01, -1.1382e+02, -9.0097e+01,\n",
      "         -5.1047e+01, -7.6856e+01, -1.0575e+02, -9.4665e+01, -8.4263e+01,\n",
      "         -6.5992e+01, -5.3295e+01, -5.8472e+01, -4.7509e+01, -5.7496e+01,\n",
      "         -6.0891e+01, -5.0808e+01, -4.7159e+01, -7.8419e+01, -9.5157e+01,\n",
      "         -8.1005e+01, -1.1044e+02, -1.1190e+02, -5.0850e+01, -6.7190e+01,\n",
      "         -1.0783e+02, -9.9765e+01, -1.1036e+02, -9.6552e+01, -9.4117e+01,\n",
      "         -8.4111e+01, -4.7208e+01, -7.0809e+01, -6.8591e+01, -8.7595e+01,\n",
      "         -6.0792e+01, -9.9449e+01, -9.7951e+01, -7.4775e+01, -6.9963e+01,\n",
      "         -4.8413e+01, -7.7606e+01, -7.7363e+01, -7.3048e+01, -4.8639e+01,\n",
      "         -6.4123e+01, -5.2178e+01, -4.1367e+01, -3.3251e+01, -2.3735e+01,\n",
      "         -1.9802e+01, -2.2401e+01, -2.5856e+01, -2.5576e+01, -3.4785e+01,\n",
      "         -5.1293e+01, -5.6569e+01, -5.0932e+01, -5.8218e+01, -6.9542e+01,\n",
      "         -6.0571e+01, -3.3236e+01, -2.5751e+01, -1.8430e+01, -1.7330e+01,\n",
      "         -1.9362e+01, -3.0725e+01, -3.9755e+01, -4.5791e+01, -5.9570e+01,\n",
      "         -7.3055e+01, -7.3024e+01, -8.0604e+01, -9.8530e+01, -8.8274e+01,\n",
      "         -9.9293e+01, -9.9565e+01, -1.2586e+02, -1.1402e+02, -3.7030e+01,\n",
      "         -1.1206e+02, -1.1050e+02, -1.0881e+02, -9.7738e+01, -9.6298e+01,\n",
      "         -8.9559e+01, -9.1399e+01, -1.0981e+02, -1.0503e+02, -8.0258e+01,\n",
      "         -4.4443e+01, -7.4228e+01, -6.5347e+01, -4.7284e+01, -4.2370e+01,\n",
      "         -2.8603e+01, -3.6405e+01, -2.7950e+01, -1.4470e+01, -1.5340e+01,\n",
      "         -1.3862e+01, -5.4725e+01, -1.0313e+01, -2.2178e-03, -6.1282e+00,\n",
      "         -1.9063e+01, -6.4408e+01, -5.7527e+01]], device='cuda:0')\n",
      "outputs1: tensor([[-4.9504e+01, -5.5556e+01, -6.4833e+01, -7.4970e+01, -8.5962e+01,\n",
      "         -8.8016e+01, -9.6433e+01, -1.0100e+02, -9.9389e+01, -1.0482e+02,\n",
      "         -1.0389e+02, -4.7640e+01, -8.3659e+01, -7.6490e+01, -6.6539e+01,\n",
      "         -6.6105e+01, -6.2998e+01, -6.6530e+01, -6.1330e+01, -5.6204e+01,\n",
      "         -3.3516e+01, -3.4015e+01, -2.9832e+01, -5.1219e+01, -5.1118e+01,\n",
      "         -7.7792e+01, -8.0729e+01, -8.7210e+01, -7.7605e+01, -1.0523e+02,\n",
      "         -9.8735e+01, -1.0985e+02, -1.2003e+02, -4.8393e+01, -1.2292e+02,\n",
      "         -1.2874e+02, -1.2656e+02, -1.1117e+02, -1.1285e+02, -1.0200e+02,\n",
      "         -9.0714e+01, -8.9426e+01, -7.5569e+01, -6.9013e+01, -4.4566e+01,\n",
      "         -5.4173e+01, -5.0531e+01, -4.3763e+01, -4.0917e+01, -4.7471e+01,\n",
      "         -4.0777e+01, -4.0884e+01, -4.5677e+01, -6.0832e+01, -6.6128e+01,\n",
      "         -3.3768e+01, -6.3326e+01, -8.3918e+01, -8.3963e+01, -7.3704e+01,\n",
      "         -1.0347e+02, -9.3055e+01, -1.0524e+02, -1.1130e+02, -1.0509e+02,\n",
      "         -1.0142e+02, -6.6610e+01, -9.6827e+01, -1.1382e+02, -9.0097e+01,\n",
      "         -5.1047e+01, -7.6856e+01, -1.0575e+02, -9.4665e+01, -8.4263e+01,\n",
      "         -6.5992e+01, -5.3295e+01, -5.8472e+01, -4.7509e+01, -5.7496e+01,\n",
      "         -6.0891e+01, -5.0808e+01, -4.7159e+01, -7.8419e+01, -9.5157e+01,\n",
      "         -8.1005e+01, -1.1044e+02, -1.1190e+02, -5.0850e+01, -6.7190e+01,\n",
      "         -1.0783e+02, -9.9765e+01, -1.1036e+02, -9.6552e+01, -9.4117e+01,\n",
      "         -8.4111e+01, -4.7208e+01, -7.0809e+01, -6.8591e+01, -8.7595e+01,\n",
      "         -6.0792e+01, -9.9449e+01, -9.7951e+01, -7.4775e+01, -6.9963e+01,\n",
      "         -4.8413e+01, -7.7606e+01, -7.7363e+01, -7.3048e+01, -4.8639e+01,\n",
      "         -6.4123e+01, -5.2178e+01, -4.1367e+01, -3.3251e+01, -2.3735e+01,\n",
      "         -1.9802e+01, -2.2401e+01, -2.5856e+01, -2.5576e+01, -3.4785e+01,\n",
      "         -5.1293e+01, -5.6569e+01, -5.0932e+01, -5.8218e+01, -6.9542e+01,\n",
      "         -6.0571e+01, -3.3236e+01, -2.5751e+01, -1.8430e+01, -1.7330e+01,\n",
      "         -1.9362e+01, -3.0725e+01, -3.9755e+01, -4.5791e+01, -5.9570e+01,\n",
      "         -7.3055e+01, -7.3024e+01, -8.0604e+01, -9.8530e+01, -8.8274e+01,\n",
      "         -9.9293e+01, -9.9565e+01, -1.2586e+02, -1.1402e+02, -3.7030e+01,\n",
      "         -1.1206e+02, -1.1050e+02, -1.0881e+02, -9.7738e+01, -9.6298e+01,\n",
      "         -8.9559e+01, -9.1399e+01, -1.0981e+02, -1.0503e+02, -8.0258e+01,\n",
      "         -4.4443e+01, -7.4228e+01, -6.5347e+01, -4.7284e+01, -4.2370e+01,\n",
      "         -2.8603e+01, -3.6405e+01, -2.7950e+01, -1.4470e+01, -1.5340e+01,\n",
      "         -1.3862e+01, -5.4725e+01, -1.0313e+01, -2.2178e-03, -6.1282e+00,\n",
      "         -1.9063e+01, -6.4408e+01, -5.7527e+01],\n",
      "        [-4.9504e+01, -5.5556e+01, -6.4833e+01, -7.4970e+01, -8.5962e+01,\n",
      "         -8.8016e+01, -9.6433e+01, -1.0100e+02, -9.9389e+01, -1.0482e+02,\n",
      "         -1.0389e+02, -4.7640e+01, -8.3659e+01, -7.6490e+01, -6.6539e+01,\n",
      "         -6.6105e+01, -6.2998e+01, -6.6530e+01, -6.1330e+01, -5.6204e+01,\n",
      "         -3.3516e+01, -3.4015e+01, -2.9832e+01, -5.1219e+01, -5.1118e+01,\n",
      "         -7.7792e+01, -8.0729e+01, -8.7210e+01, -7.7605e+01, -1.0523e+02,\n",
      "         -9.8735e+01, -1.0985e+02, -1.2003e+02, -4.8393e+01, -1.2292e+02,\n",
      "         -1.2874e+02, -1.2656e+02, -1.1117e+02, -1.1285e+02, -1.0200e+02,\n",
      "         -9.0714e+01, -8.9426e+01, -7.5569e+01, -6.9013e+01, -4.4566e+01,\n",
      "         -5.4173e+01, -5.0531e+01, -4.3763e+01, -4.0917e+01, -4.7471e+01,\n",
      "         -4.0777e+01, -4.0884e+01, -4.5677e+01, -6.0832e+01, -6.6128e+01,\n",
      "         -3.3768e+01, -6.3326e+01, -8.3918e+01, -8.3963e+01, -7.3704e+01,\n",
      "         -1.0347e+02, -9.3055e+01, -1.0524e+02, -1.1130e+02, -1.0509e+02,\n",
      "         -1.0142e+02, -6.6610e+01, -9.6827e+01, -1.1382e+02, -9.0097e+01,\n",
      "         -5.1047e+01, -7.6856e+01, -1.0575e+02, -9.4665e+01, -8.4263e+01,\n",
      "         -6.5992e+01, -5.3295e+01, -5.8472e+01, -4.7509e+01, -5.7496e+01,\n",
      "         -6.0891e+01, -5.0808e+01, -4.7159e+01, -7.8419e+01, -9.5157e+01,\n",
      "         -8.1005e+01, -1.1044e+02, -1.1190e+02, -5.0850e+01, -6.7190e+01,\n",
      "         -1.0783e+02, -9.9765e+01, -1.1036e+02, -9.6552e+01, -9.4117e+01,\n",
      "         -8.4111e+01, -4.7208e+01, -7.0809e+01, -6.8591e+01, -8.7595e+01,\n",
      "         -6.0792e+01, -9.9449e+01, -9.7951e+01, -7.4775e+01, -6.9963e+01,\n",
      "         -4.8413e+01, -7.7606e+01, -7.7363e+01, -7.3048e+01, -4.8639e+01,\n",
      "         -6.4123e+01, -5.2178e+01, -4.1367e+01, -3.3251e+01, -2.3735e+01,\n",
      "         -1.9802e+01, -2.2401e+01, -2.5856e+01, -2.5576e+01, -3.4785e+01,\n",
      "         -5.1293e+01, -5.6569e+01, -5.0932e+01, -5.8218e+01, -6.9542e+01,\n",
      "         -6.0571e+01, -3.3236e+01, -2.5751e+01, -1.8430e+01, -1.7330e+01,\n",
      "         -1.9362e+01, -3.0725e+01, -3.9755e+01, -4.5791e+01, -5.9570e+01,\n",
      "         -7.3055e+01, -7.3024e+01, -8.0604e+01, -9.8530e+01, -8.8274e+01,\n",
      "         -9.9293e+01, -9.9565e+01, -1.2586e+02, -1.1402e+02, -3.7030e+01,\n",
      "         -1.1206e+02, -1.1050e+02, -1.0881e+02, -9.7738e+01, -9.6298e+01,\n",
      "         -8.9559e+01, -9.1399e+01, -1.0981e+02, -1.0503e+02, -8.0258e+01,\n",
      "         -4.4443e+01, -7.4228e+01, -6.5347e+01, -4.7284e+01, -4.2370e+01,\n",
      "         -2.8603e+01, -3.6405e+01, -2.7950e+01, -1.4470e+01, -1.5340e+01,\n",
      "         -1.3862e+01, -5.4725e+01, -1.0313e+01, -2.2178e-03, -6.1282e+00,\n",
      "         -1.9063e+01, -6.4408e+01, -5.7527e+01]], device='cuda:0')\n",
      "num: tensor([168, 168], device='cuda:0') value: tensor([-0.0022, -0.0022], device='cuda:0')\n"
     ]
    }
   ],
   "source": [
    "print(\"outputs:\",outputs)\n",
    "\n",
    "outputs1 = torch.cat((outputs,outputs),dim=0)\n",
    "print(\"outputs1:\",outputs1)\n",
    "\n",
    "value,num = torch.max(outputs1, 1)\n",
    "print(\"num:\",num,\"value:\",value)\n"
   ]
  },
  {
   "cell_type": "code",
   "execution_count": null,
   "metadata": {},
   "outputs": [],
   "source": [
    "num2 = torch.tensor([]).to(device)\n",
    "num1 = torch.cat((num2,num),dim=0)"
   ]
  },
  {
   "cell_type": "code",
   "execution_count": null,
   "metadata": {},
   "outputs": [
    {
     "name": "stdout",
     "output_type": "stream",
     "text": [
      "C:\\Users\\nanolab115\\Desktop\\diff1.png\n"
     ]
    }
   ],
   "source": [
    "print('C:\\\\Users\\\\nanolab115\\Desktop\\\\'+'diff1.png')"
   ]
  },
  {
   "cell_type": "code",
   "execution_count": null,
   "metadata": {},
   "outputs": [
    {
     "name": "stdout",
     "output_type": "stream",
     "text": [
      "Collecting pygal\n",
      "  Downloading pygal-3.0.0-py2.py3-none-any.whl (129 kB)\n",
      "Installing collected packages: pygal\n",
      "Successfully installed pygal-3.0.0\n",
      "Note: you may need to restart the kernel to use updated packages.\n"
     ]
    }
   ],
   "source": [
    "pip install pygal\n"
   ]
  }
 ],
 "metadata": {
  "colab": {
   "collapsed_sections": [],
   "name": "“transfer_learning_tutorial.ipynb”的副本",
   "provenance": [],
   "toc_visible": true
  },
  "kernelspec": {
   "display_name": "Python 3.8.12 ('d2l')",
   "language": "python",
   "name": "python3"
  },
  "language_info": {
   "codemirror_mode": {
    "name": "ipython",
    "version": 3
   },
   "file_extension": ".py",
   "mimetype": "text/x-python",
   "name": "python",
   "nbconvert_exporter": "python",
   "pygments_lexer": "ipython3",
   "version": "3.8.12"
  },
  "vscode": {
   "interpreter": {
    "hash": "7061942769f3c9a2293758efea8903f9b6d180f2fa67ad14b24cc360ad6c0f14"
   }
  }
 },
 "nbformat": 4,
 "nbformat_minor": 1
}
