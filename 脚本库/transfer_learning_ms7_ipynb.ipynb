{
 "cells": [
  {
   "cell_type": "code",
   "execution_count": 1,
   "metadata": {
    "colab": {
     "base_uri": "https://localhost:8080/"
    },
    "id": "yH27CHe0mv_7",
    "outputId": "61c7eea8-0088-49d9-f089-12531ff86e13"
   },
   "outputs": [],
   "source": [
    "# from google.colab import drive\n",
    "# drive.mount('/content/drive')"
   ]
  },
  {
   "cell_type": "code",
   "execution_count": 2,
   "metadata": {
    "id": "Z3FIPYrAZwbY"
   },
   "outputs": [],
   "source": [
    "%matplotlib inline"
   ]
  },
  {
   "cell_type": "markdown",
   "metadata": {
    "id": "eOJK_uNaZwba"
   },
   "source": [
    "\n",
    "Transfer Learning for Computer Vision Tutorial\n",
    "==============================================\n",
    "\n",
    "These two major transfer learning scenarios look as follows:\n",
    "\n",
    "-  **Finetuning the convnet**: Instead of random initialization, we\n",
    "   initialize the network with a pretrained network, like the one that is\n",
    "   trained on imagenet 1000 dataset. Rest of the training looks as\n",
    "   usual.\n",
    "-  **ConvNet as fixed feature extractor**: Here, we will freeze the weights\n",
    "   for all of the network except that of the final fully connected\n",
    "   layer. This last fully connected layer is replaced with a new one\n",
    "   with random weights and only this layer is trained.\n"
   ]
  },
  {
   "cell_type": "code",
   "execution_count": 3,
   "metadata": {
    "id": "Wih7PFZmZwbc"
   },
   "outputs": [],
   "source": [
    "from __future__ import print_function, division\n",
    "\n",
    "import torch\n",
    "import torch.nn as nn\n",
    "import torch.optim as optim\n",
    "from torch.utils.data import DataLoader\n",
    "from torch.optim import lr_scheduler\n",
    "import torch.backends.cudnn as cudnn\n",
    "import numpy as np\n",
    "import torchvision\n",
    "from torchvision import datasets, models, transforms\n",
    "import matplotlib.pyplot as plt\n",
    "import time\n",
    "import os\n",
    "import copy\n",
    "\n",
    "cudnn.benchmark = True\n",
    "plt.ion()   # interactive mode"
   ]
  },
  {
   "cell_type": "markdown",
   "metadata": {
    "id": "CgOZkRB3Zwbc"
   },
   "source": [
    "Load Data\n",
    "---------\n",
    "\n",
    "We will use torchvision and torch.utils.data packages for loading the\n",
    "data.\n",
    "\n",
    "The problem we're going to solve today is to train a model to classify\n",
    "**ants** and **bees**. We have about 120 training images each for ants and bees.\n",
    "There are 75 validation images for each class. Usually, this is a very\n",
    "small dataset to generalize upon, if trained from scratch. Since we\n",
    "are using transfer learning, we should be able to generalize reasonably\n",
    "well.\n",
    "\n",
    "This dataset is a very small subset of imagenet.\n",
    "\n",
    ".. Note ::\n",
    "   Download the data from\n",
    "   `here <https://download.pytorch.org/tutorial/hymenoptera_data.zip>`_\n",
    "   and extract it to the current directory.\n",
    "\n"
   ]
  },
  {
   "cell_type": "code",
   "execution_count": 4,
   "metadata": {
    "colab": {
     "base_uri": "https://localhost:8080/",
     "height": 401
    },
    "id": "_fGla5k3Zwbd",
    "outputId": "0228cd54-ab59-4bc4-f47a-a3b3d406bf00"
   },
   "outputs": [
    {
     "name": "stdout",
     "output_type": "stream",
     "text": [
      "168537 42177\n"
     ]
    }
   ],
   "source": [
    "# Data augmentation and normalization for training\n",
    "# Just normalization for validation\n",
    "image_transforms  = {\n",
    "    'train': transforms.Compose([\n",
    "        transforms.RandomResizedCrop(size=256, scale=(0.8, 1.0)),\n",
    "        transforms.RandomRotation(degrees = 45),\n",
    "        transforms.RandomHorizontalFlip(),\n",
    "        transforms.CenterCrop(size=224),\n",
    "        transforms.ToTensor(),\n",
    "        transforms.Normalize([0.485, 0.456, 0.406], [0.229, 0.224, 0.225])\n",
    "    ]),\n",
    "    'valid': transforms.Compose([\n",
    "        transforms.Resize(size=256),\n",
    "        transforms.CenterCrop(size=224),\n",
    "        transforms.ToTensor(),\n",
    "        transforms.Normalize([0.485, 0.456, 0.406], [0.229, 0.224, 0.225])\n",
    "    ])\n",
    "}\n",
    "\n",
    "dataset = 'E:\\gmd_data\\microsphere2_dataAugmented'\n",
    "train_directory = os.path.join(dataset, 'train')\n",
    "valid_directory = os.path.join(dataset, 'valid')\n",
    "\n",
    "batch_size = 32\n",
    "# num_classes = 173\n",
    "\n",
    "data = {\n",
    "    'train': datasets.ImageFolder(root=train_directory, transform=image_transforms['train']),\n",
    "    'valid': datasets.ImageFolder(root=valid_directory, transform=image_transforms['valid'])\n",
    "\n",
    "}\n",
    "\n",
    "\n",
    "train_data_size = len(data['train'])\n",
    "valid_data_size = len(data['valid'])\n",
    "\n",
    "train_data = DataLoader(data['train'], batch_size=batch_size, shuffle=True)\n",
    "valid_data = DataLoader(data['valid'], batch_size=batch_size, shuffle=True)\n",
    "\n",
    "print(train_data_size, valid_data_size)"
   ]
  },
  {
   "cell_type": "markdown",
   "metadata": {
    "id": "NKqC2LN2Zwbd"
   },
   "source": [
    "迁移学习\n",
    "---------\n",
    "\n",
    "\n",
    "这里使用ResNet-50的预训练模型。\n"
   ]
  },
  {
   "cell_type": "code",
   "execution_count": 5,
   "metadata": {
    "id": "o6u40PdzZwbe"
   },
   "outputs": [],
   "source": [
    "resnet50 = models.resnet50(pretrained=True)\n",
    "\n",
    "for param in resnet50.parameters():\n",
    "    param.requires_grad = True\n",
    "\n",
    "fc_inputs = resnet50.fc.in_features\n",
    "resnet50.fc = nn.Sequential(\n",
    "    nn.Linear(fc_inputs, 256),\n",
    "    nn.ReLU(),\n",
    "    nn.Dropout(0.4),\n",
    "    nn.Linear(256, 128),\n",
    "    nn.ReLU(),\n",
    "    nn.Dropout(0.4),\n",
    "    nn.Linear(128, 64),\n",
    "    nn.ReLU(),\n",
    "    nn.Dropout(0.4),\n",
    "    nn.Linear(64, 173),\n",
    "    nn.LogSoftmax(dim = 1)\n",
    "\n",
    "\n",
    ")\n",
    "resnet50 = resnet50.to('cuda:0')\n",
    "loss_func = nn.NLLLoss()\n",
    "optimizer = optim.AdamW(resnet50.parameters(),lr=1e-4)"
   ]
  },
  {
   "cell_type": "markdown",
   "metadata": {
    "id": "4co9ExtXZwbe"
   },
   "source": [
    "Training the model\n",
    "------------------\n",
    "\n",
    "Now, let's write a general function to train a model. Here, we will\n",
    "illustrate:\n",
    "\n",
    "-  Scheduling the learning rate\n",
    "-  Saving the best model\n",
    "\n",
    "In the following, parameter ``scheduler`` is an LR scheduler object from\n",
    "``torch.optim.lr_scheduler``.\n",
    "\n"
   ]
  },
  {
   "cell_type": "code",
   "execution_count": 6,
   "metadata": {
    "id": "uPoilgStZwbe"
   },
   "outputs": [],
   "source": [
    "def train_and_valid(model, loss_function, optimizer, epochs=25):\n",
    "    device = torch.device(\"cuda:0\" if torch.cuda.is_available() else \"cpu\")\n",
    "    history = []\n",
    "    best_acc = 0.0\n",
    "    best_epoch = 0\n",
    "\n",
    "    for epoch in range(epochs):\n",
    "        epoch_start = time.time()\n",
    "        print(\"Epoch: {}/{}\".format(epoch+1, epochs))\n",
    "\n",
    "        model.train()\n",
    "\n",
    "        train_loss = 0.0\n",
    "        train_acc = 0.0\n",
    "        valid_loss = 0.0\n",
    "        valid_acc = 0.0\n",
    "\n",
    "        for i, (inputs, labels) in enumerate(train_data):\n",
    "            inputs = inputs.to(device)\n",
    "            labels = labels.to(device)\n",
    "\n",
    "            #因为这里梯度是累加的，所以每次记得清零\n",
    "            optimizer.zero_grad()\n",
    "\n",
    "            outputs = model(inputs)\n",
    "\n",
    "            loss = loss_function(outputs, labels)\n",
    "\n",
    "            loss.backward()\n",
    "\n",
    "            optimizer.step()\n",
    "\n",
    "            train_loss += loss.item() * inputs.size(0)\n",
    "\n",
    "            ret, predictions = torch.max(outputs.data, 1)\n",
    "            correct_counts = predictions.eq(labels.data.view_as(predictions))\n",
    "\n",
    "            acc = torch.mean(correct_counts.type(torch.FloatTensor))\n",
    "\n",
    "            train_acc += acc.item() * inputs.size(0)\n",
    "\n",
    "        with torch.no_grad():\n",
    "            model.eval()\n",
    "\n",
    "            for j, (inputs, labels) in enumerate(valid_data):\n",
    "                inputs = inputs.to(device)\n",
    "                labels = labels.to(device)\n",
    "\n",
    "                outputs = model(inputs)\n",
    "\n",
    "                loss = loss_function(outputs, labels)\n",
    "\n",
    "                valid_loss += loss.item() * inputs.size(0)\n",
    "\n",
    "                ret, predictions = torch.max(outputs.data, 1)\n",
    "                correct_counts = predictions.eq(labels.data.view_as(predictions))\n",
    "\n",
    "                acc = torch.mean(correct_counts.type(torch.FloatTensor))\n",
    "\n",
    "                valid_acc += acc.item() * inputs.size(0)\n",
    "\n",
    "        avg_train_loss = train_loss/train_data_size\n",
    "        avg_train_acc = train_acc/train_data_size\n",
    "\n",
    "        avg_valid_loss = valid_loss/valid_data_size\n",
    "        avg_valid_acc = valid_acc/valid_data_size\n",
    "\n",
    "        history.append([avg_train_loss, avg_valid_loss, avg_train_acc, avg_valid_acc])\n",
    "\n",
    "        if best_acc < avg_valid_acc:\n",
    "            best_acc = avg_valid_acc\n",
    "            best_epoch = epoch + 1\n",
    "\n",
    "        epoch_end = time.time()\n",
    "\n",
    "        print(\"Epoch: {:03d}, Training: Loss: {:.4f}, Accuracy: {:.4f}%, \\n\\t\\tValidation: Loss: {:.4f}, Accuracy: {:.4f}%, Time: {:.4f}s\".format(\n",
    "            epoch+1, avg_valid_loss, avg_train_acc*100, avg_valid_loss, avg_valid_acc*100, epoch_end-epoch_start\n",
    "        ))\n",
    "        print(\"Best Accuracy for validation : {:.4f} at epoch {:03d}\".format(best_acc, best_epoch))\n",
    "\n",
    "        torch.save(model, dataset+'/models/'+'model_'+str(epoch+1)+'.pt')\n",
    "    return model, history\n"
   ]
  },
  {
   "cell_type": "code",
   "execution_count": null,
   "metadata": {
    "id": "9O0-Tn9PgT8u",
    "scrolled": true
   },
   "outputs": [
    {
     "name": "stdout",
     "output_type": "stream",
     "text": [
      "Epoch: 1/3000\n",
      "Epoch: 001, Training: Loss: 2.7538, Accuracy: 5.1644%, \n",
      "\t\tValidation: Loss: 2.7538, Accuracy: 16.3335%, Time: 10576.9485s\n",
      "Best Accuracy for validation : 0.1633 at epoch 001\n",
      "Epoch: 2/3000\n",
      "Epoch: 002, Training: Loss: 1.9025, Accuracy: 14.4609%, \n",
      "\t\tValidation: Loss: 1.9025, Accuracy: 29.3240%, Time: 15466.3391s\n",
      "Best Accuracy for validation : 0.2932 at epoch 002\n",
      "Epoch: 3/3000\n",
      "Epoch: 003, Training: Loss: 1.6153, Accuracy: 21.2814%, \n",
      "\t\tValidation: Loss: 1.6153, Accuracy: 36.6622%, Time: 15259.9867s\n",
      "Best Accuracy for validation : 0.3666 at epoch 003\n",
      "Epoch: 4/3000\n",
      "Epoch: 004, Training: Loss: 1.5242, Accuracy: 26.9217%, \n",
      "\t\tValidation: Loss: 1.5242, Accuracy: 37.6580%, Time: 15213.9347s\n",
      "Best Accuracy for validation : 0.3766 at epoch 004\n",
      "Epoch: 5/3000\n",
      "Epoch: 005, Training: Loss: 1.4443, Accuracy: 31.2691%, \n",
      "\t\tValidation: Loss: 1.4443, Accuracy: 39.0616%, Time: 12427.8205s\n",
      "Best Accuracy for validation : 0.3906 at epoch 005\n",
      "Epoch: 6/3000\n",
      "Epoch: 006, Training: Loss: 1.2969, Accuracy: 34.9490%, \n",
      "\t\tValidation: Loss: 1.2969, Accuracy: 46.3309%, Time: 11575.7800s\n",
      "Best Accuracy for validation : 0.4633 at epoch 006\n",
      "Epoch: 7/3000\n",
      "Epoch: 007, Training: Loss: 1.5589, Accuracy: 37.9839%, \n",
      "\t\tValidation: Loss: 1.5589, Accuracy: 31.8230%, Time: 11192.2128s\n",
      "Best Accuracy for validation : 0.4633 at epoch 006\n",
      "Epoch: 8/3000\n",
      "Epoch: 008, Training: Loss: 1.1939, Accuracy: 40.4831%, \n",
      "\t\tValidation: Loss: 1.1939, Accuracy: 50.5181%, Time: 9845.6822s\n",
      "Best Accuracy for validation : 0.5052 at epoch 008\n",
      "Epoch: 9/3000\n",
      "Epoch: 009, Training: Loss: 1.2772, Accuracy: 42.9639%, \n",
      "\t\tValidation: Loss: 1.2772, Accuracy: 45.2996%, Time: 9582.1017s\n",
      "Best Accuracy for validation : 0.5052 at epoch 008\n",
      "Epoch: 10/3000\n",
      "Epoch: 010, Training: Loss: 1.1893, Accuracy: 45.6814%, \n",
      "\t\tValidation: Loss: 1.1893, Accuracy: 50.2288%, Time: 9037.5756s\n",
      "Best Accuracy for validation : 0.5052 at epoch 008\n",
      "Epoch: 11/3000\n",
      "Epoch: 011, Training: Loss: 1.1174, Accuracy: 48.0690%, \n",
      "\t\tValidation: Loss: 1.1174, Accuracy: 56.3980%, Time: 8859.3787s\n",
      "Best Accuracy for validation : 0.5640 at epoch 011\n",
      "Epoch: 12/3000\n",
      "Epoch: 012, Training: Loss: 1.1300, Accuracy: 50.3682%, \n",
      "\t\tValidation: Loss: 1.1300, Accuracy: 55.2695%, Time: 8767.3091s\n",
      "Best Accuracy for validation : 0.5640 at epoch 011\n",
      "Epoch: 13/3000\n",
      "Epoch: 013, Training: Loss: 1.1831, Accuracy: 53.0886%, \n",
      "\t\tValidation: Loss: 1.1831, Accuracy: 54.8071%, Time: 8649.5798s\n",
      "Best Accuracy for validation : 0.5640 at epoch 011\n",
      "Epoch: 14/3000\n",
      "Epoch: 014, Training: Loss: 1.1552, Accuracy: 55.3813%, \n",
      "\t\tValidation: Loss: 1.1552, Accuracy: 51.1961%, Time: 8532.3500s\n",
      "Best Accuracy for validation : 0.5640 at epoch 011\n",
      "Epoch: 15/3000\n",
      "Epoch: 015, Training: Loss: 1.0976, Accuracy: 57.8573%, \n",
      "\t\tValidation: Loss: 1.0976, Accuracy: 61.2704%, Time: 8596.7534s\n",
      "Best Accuracy for validation : 0.6127 at epoch 015\n",
      "Epoch: 16/3000\n",
      "Epoch: 016, Training: Loss: 1.1786, Accuracy: 60.3577%, \n",
      "\t\tValidation: Loss: 1.1786, Accuracy: 56.4383%, Time: 8507.8655s\n",
      "Best Accuracy for validation : 0.6127 at epoch 015\n",
      "Epoch: 17/3000\n",
      "Epoch: 017, Training: Loss: 1.4366, Accuracy: 62.7809%, \n",
      "\t\tValidation: Loss: 1.4366, Accuracy: 47.0256%, Time: 8687.8957s\n",
      "Best Accuracy for validation : 0.6127 at epoch 015\n",
      "Epoch: 18/3000\n"
     ]
    }
   ],
   "source": [
    "num_epochs = 3000\n",
    "trained_model, history = train_and_valid(resnet50, loss_func, optimizer, num_epochs)\n",
    "torch.save(history, 'models/'+dataset+'_history.pt')\n",
    "\n"
   ]
  },
  {
   "cell_type": "code",
   "execution_count": null,
   "metadata": {},
   "outputs": [],
   "source": [
    "history = np.array(history)\n",
    "plt.plot(history[:, 0:2])\n",
    "plt.legend(['Tr Loss', 'Val Loss'])\n",
    "plt.xlabel('Epoch Number')\n",
    "plt.ylabel('Loss')\n",
    "plt.ylim(0, 1)\n",
    "plt.savefig(dataset+'_loss_curve.png')\n",
    "plt.show()\n",
    "\n",
    "plt.plot(history[:, 2:4])\n",
    "plt.legend(['Tr Accuracy', 'Val Accuracy'])\n",
    "plt.xlabel('Epoch Number')\n",
    "plt.ylabel('Accuracy')\n",
    "plt.ylim(0, 1)\n",
    "plt.savefig(dataset+'_accuracy_curve.png')\n",
    "plt.show()"
   ]
  },
  {
   "cell_type": "code",
   "execution_count": null,
   "metadata": {},
   "outputs": [],
   "source": [
    "print(dataset+'\\models\\\\'+'model_'+str(1)+'.pt')"
   ]
  },
  {
   "cell_type": "code",
   "execution_count": null,
   "metadata": {},
   "outputs": [],
   "source": [
    "print( dataset+'/models/'+'model_'+str(1)+'.pt')"
   ]
  },
  {
   "cell_type": "code",
   "execution_count": null,
   "metadata": {},
   "outputs": [],
   "source": []
  }
 ],
 "metadata": {
  "colab": {
   "collapsed_sections": [],
   "name": "“transfer_learning_tutorial.ipynb”的副本",
   "provenance": [],
   "toc_visible": true
  },
  "kernelspec": {
   "display_name": "Python 3 (ipykernel)",
   "language": "python",
   "name": "python3"
  },
  "language_info": {
   "codemirror_mode": {
    "name": "ipython",
    "version": 3
   },
   "file_extension": ".py",
   "mimetype": "text/x-python",
   "name": "python",
   "nbconvert_exporter": "python",
   "pygments_lexer": "ipython3",
   "version": "3.8.12"
  }
 },
 "nbformat": 4,
 "nbformat_minor": 1
}
