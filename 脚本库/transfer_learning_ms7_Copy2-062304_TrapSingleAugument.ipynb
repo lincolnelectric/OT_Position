{
 "cells": [
  {
   "cell_type": "code",
   "execution_count": 1,
   "metadata": {},
   "outputs": [],
   "source": [
    "#  经过数据增广的图片分门别类 训练集和验证集 4：1\n",
    "import os,shutil,glob\n",
    "import numpy as np\n",
    "path_from = os.path.abspath(r'E:\\gmd_data\\2022062304\\16cut3_Trap_Augu')\t#图片原来位置的位置\n",
    "path_target = os.path.abspath(r'E:\\gmd_data\\2022_06_23_04_Trap_Augumented\\train')\t#图片移动到的位置\n",
    "path_target2 = os.path.abspath(r'E:\\gmd_data\\2022_06_23_04_Trap_Augumented\\valid')\t#图片移动到的位置\n",
    "path_targetmodels = os.path.abspath(r'E:\\gmd_data\\2022_06_23_04_Trap_Augumented\\models')\t#图片移动到的位置\n",
    "isExists = os.path.exists(path_targetmodels)\n",
    "if not isExists:\t\t\t\t\t\t# 判断如果文件不存在,则创建\n",
    "    os.makedirs(path_targetmodels)       # 创建文件夹\n",
    "\n",
    "for i in range(6408,12008,8): #这里创建626个文件夹 步进8：5nm\n",
    "    # *定义一个变量判断文件是否存在,path指代路径,str(i)指代文件夹的名字*\n",
    "    isExists = os.path.exists(path_target+\"\\\\\"+str(i))\n",
    "    if not isExists:\t\t\t\t\t\t# 判断如果文件不存在,则创建\n",
    "        os.makedirs(path_target+\"\\\\\"+str(i))       # 创建文件夹\n",
    "    isExists = os.path.exists(path_target2+\"\\\\\"+str(i))\n",
    "    if not isExists:\t\t\t\t\t\t# 判断如果文件不存在,则创建\n",
    "        os.makedirs(path_target2+\"\\\\\"+str(i))       # 创建文件夹\n",
    "\n",
    "    fns = glob.glob(path_from+'\\\\'+str(i)+'_'+'*.png') # 每一个高度的图片 读取一次\n",
    "    # print(fns)\n",
    "    for ind in range(len(fns)): # 列表中的每一张图循环一次\n",
    "        dir,fn = os.path.split(fns[ind])  # 分离路径和文件名\n",
    "        if ind < len(fns)*0.8:\n",
    "            dstfn = path_target+'\\\\'+str(i)+'\\\\'+fn  # 生成目标目录下的新文件名\n",
    "            isExists = os.path.exists(dstfn)\n",
    "            if not isExists:\t\t\t\t\t\t# 判断如果文件不存在,则创建\n",
    "                shutil.copy(fns[ind],dstfn) \n",
    "                # print('ok',dstfn)\n",
    "        else:\n",
    "            dstfn = path_target2+'\\\\'+str(i)+'\\\\'+fn  # 生成目标目录下的新文件名\n",
    "            isExists = os.path.exists(dstfn)\n",
    "            if not isExists:\t\t\n",
    "                shutil.copy(fns[ind],dstfn) \n",
    "                # print('ok',dstfn)"
   ]
  },
  {
   "cell_type": "code",
   "execution_count": 2,
   "metadata": {
    "colab": {
     "base_uri": "https://localhost:8080/"
    },
    "id": "yH27CHe0mv_7",
    "outputId": "61c7eea8-0088-49d9-f089-12531ff86e13"
   },
   "outputs": [],
   "source": [
    "# from google.colab import drive\n",
    "# drive.mount('/content/drive')"
   ]
  },
  {
   "cell_type": "code",
   "execution_count": 3,
   "metadata": {
    "id": "Z3FIPYrAZwbY"
   },
   "outputs": [],
   "source": [
    "%matplotlib inline"
   ]
  },
  {
   "cell_type": "markdown",
   "metadata": {
    "id": "eOJK_uNaZwba"
   },
   "source": [
    "\n",
    "Transfer Learning for Computer Vision Tutorial\n",
    "==============================================\n",
    "\n",
    "These two major transfer learning scenarios look as follows:\n",
    "\n",
    "-  **Finetuning the convnet**: Instead of random initialization, we\n",
    "   initialize the network with a pretrained network, like the one that is\n",
    "   trained on imagenet 1000 dataset. Rest of the training looks as\n",
    "   usual.\n",
    "-  **ConvNet as fixed feature extractor**: Here, we will freeze the weights\n",
    "   for all of the network except that of the final fully connected\n",
    "   layer. This last fully connected layer is replaced with a new one\n",
    "   with random weights and only this layer is trained.\n"
   ]
  },
  {
   "cell_type": "code",
   "execution_count": 4,
   "metadata": {
    "id": "Wih7PFZmZwbc"
   },
   "outputs": [],
   "source": [
    "from __future__ import print_function, division\n",
    "\n",
    "import torch\n",
    "import torch.nn as nn\n",
    "import torch.optim as optim\n",
    "from torch.utils.data import DataLoader\n",
    "from torch.optim import lr_scheduler\n",
    "import torch.backends.cudnn as cudnn\n",
    "import numpy as np\n",
    "import torchvision\n",
    "from torchvision import datasets, models, transforms\n",
    "import matplotlib.pyplot as plt\n",
    "import time\n",
    "import os\n",
    "import copy\n",
    "\n",
    "cudnn.benchmark = True\n",
    "plt.ion()   # interactive mode"
   ]
  },
  {
   "cell_type": "markdown",
   "metadata": {
    "id": "CgOZkRB3Zwbc"
   },
   "source": [
    "Load Data\n",
    "---------\n",
    "\n",
    "We will use torchvision and torch.utils.data packages for loading the\n",
    "data.\n",
    "\n",
    "The problem we're going to solve today is to train a model to classify\n",
    "**ants** and **bees**. We have about 120 training images each for ants and bees.\n",
    "There are 75 validation images for each class. Usually, this is a very\n",
    "small dataset to generalize upon, if trained from scratch. Since we\n",
    "are using transfer learning, we should be able to generalize reasonably\n",
    "well.\n",
    "\n",
    "This dataset is a very small subset of imagenet.\n",
    "\n",
    ".. Note ::\n",
    "   Download the data from\n",
    "   `here <https://download.pytorch.org/tutorial/hymenoptera_data.zip>`_\n",
    "   and extract it to the current directory.\n",
    "\n"
   ]
  },
  {
   "cell_type": "code",
   "execution_count": 5,
   "metadata": {
    "colab": {
     "base_uri": "https://localhost:8080/",
     "height": 401
    },
    "id": "_fGla5k3Zwbd",
    "outputId": "0228cd54-ab59-4bc4-f47a-a3b3d406bf00"
   },
   "outputs": [
    {
     "name": "stdout",
     "output_type": "stream",
     "text": [
      "677504 169376\n"
     ]
    }
   ],
   "source": [
    "# Data augmentation and normalization for training\n",
    "# Just normalization for validation\n",
    "image_transforms  = {\n",
    "    'train': transforms.Compose([\n",
    "        # transforms.RandomResizedCrop(size=256, scale=(0.8, 1.0)),\n",
    "        # transforms.RandomRotation(degrees = 45),\n",
    "        # transforms.RandomHorizontalFlip(),\n",
    "        transforms.Resize(size=256),\n",
    "        transforms.CenterCrop(size=224),\n",
    "        transforms.ToTensor(),\n",
    "        transforms.Normalize([0.485, 0.456, 0.406], [0.229, 0.224, 0.225])\n",
    "    ]),\n",
    "    'valid': transforms.Compose([\n",
    "        transforms.Resize(size=256),\n",
    "        transforms.CenterCrop(size=224),\n",
    "        transforms.ToTensor(),\n",
    "        transforms.Normalize([0.485, 0.456, 0.406], [0.229, 0.224, 0.225])\n",
    "    ])\n",
    "}\n",
    "\n",
    "# dataset = 'E:\\gmd_data\\microsphere2_dataAugmented'\n",
    "dataset = 'E:\\gmd_data\\\\2022_06_23_04_Trap_Augumented'\n",
    "train_directory = os.path.join(dataset, 'train')\n",
    "valid_directory = os.path.join(dataset, 'valid')\n",
    "\n",
    "batch_size = 32\n",
    "# num_classes = 173\n",
    "\n",
    "data = {\n",
    "    'train': datasets.ImageFolder(root=train_directory, transform=image_transforms['train']),\n",
    "    'valid': datasets.ImageFolder(root=valid_directory, transform=image_transforms['valid'])\n",
    "\n",
    "}\n",
    "\n",
    "\n",
    "train_data_size = len(data['train'])\n",
    "valid_data_size = len(data['valid'])\n",
    "\n",
    "train_data = DataLoader(data['train'], batch_size=batch_size, shuffle=True)\n",
    "valid_data = DataLoader(data['valid'], batch_size=batch_size, shuffle=True)\n",
    "\n",
    "print(train_data_size, valid_data_size)"
   ]
  },
  {
   "cell_type": "markdown",
   "metadata": {
    "id": "NKqC2LN2Zwbd"
   },
   "source": [
    "迁移学习\n",
    "---------\n",
    "\n",
    "\n",
    "这里使用ResNet-50的预训练模型。\n"
   ]
  },
  {
   "cell_type": "code",
   "execution_count": 6,
   "metadata": {
    "id": "o6u40PdzZwbe"
   },
   "outputs": [],
   "source": [
    "resnet50 = models.resnet50(pretrained=True)\n",
    "\n",
    "for param in resnet50.parameters():\n",
    "    param.requires_grad = True\n",
    "\n",
    "fc_inputs = resnet50.fc.in_features\n",
    "resnet50.fc = nn.Sequential(\n",
    "    nn.Linear(fc_inputs, 1300),\n",
    "    nn.LogSoftmax(dim = 1)\n",
    "\n",
    "\n",
    ")\n",
    "resnet50 = resnet50.to('cuda:0')\n",
    "loss_func = nn.NLLLoss()\n",
    "# optimizer = optim.AdamW(resnet50.parameters(),lr=1e-4)"
   ]
  },
  {
   "cell_type": "markdown",
   "metadata": {
    "id": "4co9ExtXZwbe"
   },
   "source": [
    "Training the model\n",
    "------------------\n",
    "\n",
    "Now, let's write a general function to train a model. Here, we will\n",
    "illustrate:\n",
    "\n",
    "-  Scheduling the learning rate\n",
    "-  Saving the best model\n",
    "\n",
    "In the following, parameter ``scheduler`` is an LR scheduler object from\n",
    "``torch.optim.lr_scheduler``.\n",
    "\n"
   ]
  },
  {
   "cell_type": "code",
   "execution_count": 7,
   "metadata": {
    "id": "9O0-Tn9PgT8u",
    "scrolled": true
   },
   "outputs": [
    {
     "name": "stdout",
     "output_type": "stream",
     "text": [
      "Epoch: 1/1\n",
      "Epoch: 001, Training: Loss: 0.3930, Accuracy: 90.3586%, \n",
      "\t\tValidation: Loss: 1.0601, Accuracy: 77.0611%, Time: 40525.3471s\n",
      "Best Accuracy for validation : 0.7706 at epoch 001\n",
      "Validation: MAE: 0.4931, Percentage of points retained:94.3640% \n"
     ]
    },
    {
     "data": {
      "image/png": "[encoded data removed]",
      "text/plain": [
       "<Figure size 432x288 with 1 Axes>"
      ]
     },
     "metadata": {
      "needs_background": "light"
     },
     "output_type": "display_data"
    },
    {
     "data": {
      "image/png": "[encoded data removed]",
      "text/plain": [
       "<Figure size 432x288 with 1 Axes>"
      ]
     },
     "metadata": {
      "needs_background": "light"
     },
     "output_type": "display_data"
    },
    {
     "data": {
      "image/png": "[encoded data removed]",
      "text/plain": [
       "<Figure size 432x288 with 1 Axes>"
      ]
     },
     "metadata": {
      "needs_background": "light"
     },
     "output_type": "display_data"
    }
   ],
   "source": [
    "model = resnet50\n",
    "loss_function = loss_func\n",
    "epochs = 1 # 7个可能比较合适\n",
    "# LR_value = 1e-4\n",
    "LR_value = 1e-4\n",
    "# trained_model, history = train_and_valid(resnet50, loss_func, num_epochs)\n",
    "# torch.save(history, 'models/'+dataset+'_history.pt')\n",
    "device = torch.device(\"cuda:0\" if torch.cuda.is_available() else \"cpu\")\n",
    "history = []\n",
    "best_acc = 0.0\n",
    "best_epoch = 0\n",
    "\n",
    "for epoch in range(epochs):\n",
    "    epoch_start = time.time()\n",
    "    print(\"Epoch: {}/{}\".format(epoch+1, epochs))\n",
    "\n",
    "    model.train()\n",
    "\n",
    "    train_loss = 0.0\n",
    "    train_acc = 0.0\n",
    "    valid_loss = 0.0\n",
    "    valid_acc = 0.0\n",
    "#         学习率递减\n",
    "    if epoch <= 1:\n",
    "        LR = LR_value;\n",
    "    elif epoch <= 2:\n",
    "        LR = LR_value*0.5;\n",
    "    elif epoch <= 3:\n",
    "        LR = LR_value*0.5*0.5;\n",
    "    elif epoch <= 4:\n",
    "        LR = LR_value*0.5*0.5*0.5;\n",
    "    else:\n",
    "        LR = LR_value*0.5*0.5*0.5*0.5;\n",
    "    optimizer = optim.AdamW(resnet50.parameters(),lr=LR)\n",
    "\n",
    "    for i, (inputs, labels) in enumerate(train_data):\n",
    "        inputs = inputs.to(device)\n",
    "        labels = labels.to(device)\n",
    "\n",
    "        #因为这里梯度是累加的，所以每次记得清零\n",
    "        optimizer.zero_grad()\n",
    "\n",
    "        outputs = model(inputs)\n",
    "\n",
    "        loss = loss_function(outputs, labels)\n",
    "\n",
    "        loss.backward()\n",
    "\n",
    "        optimizer.step()\n",
    "\n",
    "        train_loss += loss.item() * inputs.size(0)\n",
    "\n",
    "        ret, predictions = torch.max(outputs.data, 1)\n",
    "        correct_counts = predictions.eq(labels.data.view_as(predictions))\n",
    "\n",
    "        acc = torch.mean(correct_counts.type(torch.FloatTensor))\n",
    "\n",
    "        train_acc += acc.item() * inputs.size(0)\n",
    "\n",
    "    with torch.no_grad():\n",
    "        model.eval()\n",
    "        predictions_all = torch.tensor([]).to(device)\n",
    "        labels_all = torch.tensor([]).to(device)\n",
    "\n",
    "        for j, (inputs, labels) in enumerate(valid_data):\n",
    "            inputs = inputs.to(device)\n",
    "            labels = labels.to(device)\n",
    "\n",
    "            outputs = model(inputs)\n",
    "\n",
    "            loss = loss_function(outputs, labels)\n",
    "\n",
    "            valid_loss += loss.item() * inputs.size(0)\n",
    "\n",
    "            ret, predictions = torch.max(outputs.data, 1)\n",
    "            correct_counts = predictions.eq(labels.data.view_as(predictions))\n",
    "\n",
    "            predictions_all = torch.cat((predictions_all,predictions),dim=0)\n",
    "            labels_all = torch.cat((labels_all,labels),dim=0)\n",
    "\n",
    "            acc = torch.mean(correct_counts.type(torch.FloatTensor))\n",
    "\n",
    "            valid_acc += acc.item() * inputs.size(0)\n",
    "\n",
    "    avg_train_loss = train_loss/train_data_size\n",
    "    avg_train_acc = train_acc/train_data_size\n",
    "\n",
    "    avg_valid_loss = valid_loss/valid_data_size\n",
    "    avg_valid_acc = valid_acc/valid_data_size\n",
    "\n",
    "    history.append([avg_train_loss, avg_valid_loss, avg_train_acc, avg_valid_acc])\n",
    "\n",
    "    if best_acc < avg_valid_acc:\n",
    "        best_acc = avg_valid_acc\n",
    "        best_epoch = epoch + 1\n",
    "\n",
    "    epoch_end = time.time()\n",
    "\n",
    "    print(\"Epoch: {:03d}, Training: Loss: {:.4f}, Accuracy: {:.4f}%, \\n\\t\\tValidation: Loss: {:.4f}, Accuracy: {:.4f}%, Time: {:.4f}s\".format(\n",
    "        epoch+1, avg_train_loss, avg_train_acc*100, avg_valid_loss, avg_valid_acc*100, epoch_end-epoch_start\n",
    "    ))\n",
    "    print(\"Best Accuracy for validation : {:.4f} at epoch {:03d}\".format(best_acc, best_epoch))\n",
    "\n",
    "    torch.save(model, dataset+'/models/'+'model_'+str(epoch+1)+'.pt')\n",
    "\n",
    "    diff = predictions_all - labels_all\n",
    "   # conc_all = torch.cat((labels_all,predictions_all,diff),dim=0)\n",
    "    device = torch.device(\"cpu\")\n",
    "    diff_small = diff[(diff>-10)&(diff<10)].to(device)\n",
    "    diff_rate = len(diff_small)/len(diff)\n",
    "    DIFF_MAE = np.linalg.norm(diff_small, ord = 1) / len(diff_small)\n",
    "    print(\"Validation: MAE: {:.4f}, Percentage of points retained:{:.4f}% \".format(\n",
    "        DIFF_MAE, diff_rate*100\n",
    "        ))\n",
    "\n",
    "    fig, ax = plt.subplots()\n",
    "    plt.scatter(labels_all.cpu(),diff.cpu(),s=5)\n",
    "    # plt.legend(['Tr Accuracy', 'Val Accuracy'])\n",
    "    plt.xlabel('labels /5nm')\n",
    "    plt.ylabel('diff /5nm')\n",
    "    # plt.ylim(0, 1)\n",
    "    # plt.savefig(\"C:\\\\Users\\\\nanolab115\\Desktop\\\\\"+\"diff1.png\")\n",
    "    plt.show()\n",
    "    fig.savefig('Diff_2022_06_23_04_TrapSingleAugument_16_step5_cut3DataSet.svg',dpi = 300, format = 'svg')\n",
    "\n",
    "    fig, ax = plt.subplots()\n",
    "    plt.scatter(labels_all.cpu(),predictions_all.cpu(),s=5)\n",
    "    # plt.legend(['Tr Accuracy', 'Val Accuracy'])\n",
    "    plt.xlabel('labels /5nm')\n",
    "    plt.ylabel('predictions /5nm')\n",
    "    # plt.ylim(0, 1)\n",
    "    # plt.savefig(\"C:\\\\Users\\\\nanolab115\\Desktop\\\\\"+\"diff1.png\")\n",
    "    plt.show()\n",
    "    fig.savefig('Predictions_2022_06_23_04_TrapSingleAugument_16_step5_cut3DataSet.svg',dpi = 300, format = 'svg')\n",
    "\n",
    "    fig, ax = plt.subplots()\n",
    "    plt.scatter(labels_all.cpu(),diff.cpu(),s=5)\n",
    "    # plt.legend(['Tr Accuracy', 'Val Accuracy'])\n",
    "    plt.xlabel('labels /5nm')\n",
    "    plt.ylabel('diff /5nm')\n",
    "    plt.ylim(-10, 10)\n",
    "    # plt.savefig(\"C:\\\\Users\\\\nanolab115\\Desktop\\\\\"+\"diff1.png\")\n",
    "    plt.show()\n",
    "    fig.savefig('Diff_small_2022_06_23_04_TrapSingleAugument_16_step5_cut3DataSet.svg',dpi = 300, format = 'svg')\n"
   ]
  },
  {
   "cell_type": "code",
   "execution_count": 8,
   "metadata": {},
   "outputs": [
    {
     "data": {
      "image/png": "[encoded data removed]",
      "text/plain": [
       "<Figure size 432x288 with 1 Axes>"
      ]
     },
     "metadata": {
      "needs_background": "light"
     },
     "output_type": "display_data"
    },
    {
     "data": {
      "image/png": "[encoded data removed]",
      "text/plain": [
       "<Figure size 432x288 with 1 Axes>"
      ]
     },
     "metadata": {
      "needs_background": "light"
     },
     "output_type": "display_data"
    }
   ],
   "source": [
    "history = np.array(history)\n",
    "plt.plot(history[:, 0:2])\n",
    "plt.legend(['Tr Loss', 'Val Loss'])\n",
    "plt.xlabel('Epoch Number')\n",
    "plt.ylabel('Loss')\n",
    "# plt.ylim(0, 1)\n",
    "plt.savefig(dataset+'_loss_curve.png')\n",
    "plt.show()\n",
    "\n",
    "plt.plot(history[:, 2:4])\n",
    "plt.legend(['Tr Accuracy', 'Val Accuracy'])\n",
    "plt.xlabel('Epoch Number')\n",
    "plt.ylabel('Accuracy')\n",
    "plt.ylim(0, 1)\n",
    "plt.savefig(dataset+'_accuracy_curve.png')\n",
    "plt.show()"
   ]
  },
  {
   "cell_type": "markdown",
   "metadata": {},
   "source": [
    "导入模型 将验证集和真值对比图画出来\n",
    "-------"
   ]
  },
  {
   "cell_type": "code",
   "execution_count": 9,
   "metadata": {
    "scrolled": true
   },
   "outputs": [],
   "source": [
    "# 导入模型 将验证集和真值对比图画出来\n",
    "# dataset = 'E:\\gmd_data\\\\2022_05_17_05_Train1_Augumented'\n",
    "model38 = torch.load( dataset+'/models/'+'model_1.pt')\n",
    "for param in model38.parameters():\n",
    "    param.requires_grad = False\n",
    "model38 = model38.to('cuda:0')\n",
    "loss_function = nn.NLLLoss()\n",
    "\n",
    "device = torch.device(\"cuda:0\" if torch.cuda.is_available() else \"cpu\")\n",
    "history = []\n",
    "best_acc = 0.0\n",
    "best_epoch = 0\n",
    "\n",
    "valid_loss = 0.0\n",
    "valid_acc = 0.0\n",
    "\n",
    "predictions_all = torch.tensor([]).to(device)\n",
    "labels_all = torch.tensor([]).to(device)\n",
    "model38.eval()\n",
    "for j, (inputs, labels) in enumerate(valid_data):\n",
    "    inputs = inputs.to(device)\n",
    "    labels = labels.to(device)\n",
    "\n",
    "    outputs = model38(inputs)\n",
    "\n",
    "    loss = loss_function(outputs, labels)\n",
    "    # print(\"valid_data_j: {}\".format(j))\n",
    "    # print(\"Outputs : \")\n",
    "    # print(outputs)\n",
    "    # print(\"labels ：\")\n",
    "    # print(labels)\n",
    "    # print(\"loss ：\")\n",
    "    # print(loss)\n",
    "\n",
    "    valid_loss += loss.item() * inputs.size(0)\n",
    "\n",
    "    ret, predictions = torch.max(outputs.data, 1)\n",
    "\n",
    "    predictions_all = torch.cat((predictions_all,predictions),dim=0)\n",
    "    labels_all = torch.cat((labels_all,labels),dim=0)\n",
    "\n",
    "    correct_counts = predictions.eq(labels.data.view_as(predictions))\n",
    "\n",
    "    acc = torch.mean(correct_counts.type(torch.FloatTensor))\n",
    "\n",
    "    valid_acc += acc.item() * inputs.size(0)\n",
    "\n",
    "avg_valid_loss = valid_loss/valid_data_size\n",
    "avg_valid_acc = valid_acc/valid_data_size"
   ]
  },
  {
   "cell_type": "markdown",
   "metadata": {},
   "source": [
    "验证集 结果：准确率、误差图像\n",
    "-"
   ]
  },
  {
   "cell_type": "code",
   "execution_count": 10,
   "metadata": {},
   "outputs": [
    {
     "name": "stdout",
     "output_type": "stream",
     "text": [
      "Validation: Loss: 1.2830, Accuracy: 78.3251%\n",
      "Validation: MAE: 0.3862, Percentage of points retained:92.0496% \n"
     ]
    },
    {
     "data": {
      "image/png": "[encoded data removed]",
      "text/plain": [
       "<Figure size 432x288 with 1 Axes>"
      ]
     },
     "metadata": {
      "needs_background": "light"
     },
     "output_type": "display_data"
    },
    {
     "data": {
      "image/png": "[encoded data removed]",
      "text/plain": [
       "<Figure size 432x288 with 1 Axes>"
      ]
     },
     "metadata": {
      "needs_background": "light"
     },
     "output_type": "display_data"
    },
    {
     "data": {
      "image/png": "[encoded data removed]",
      "text/plain": [
       "<Figure size 432x288 with 1 Axes>"
      ]
     },
     "metadata": {
      "needs_background": "light"
     },
     "output_type": "display_data"
    }
   ],
   "source": [
    "history.append([avg_valid_loss, avg_valid_acc])\n",
    "\n",
    "print(\"Validation: Loss: {:.4f}, Accuracy: {:.4f}%\".format(\n",
    "    avg_valid_loss, avg_valid_acc*100\n",
    "))\n",
    "# print(\"Validation: MSE: {:.4f}\".format( ))\n",
    "\n",
    "diff = predictions_all - labels_all\n",
    "# conc_all = torch.cat((labels_all,predictions_all,diff),dim=0)\n",
    "device = torch.device(\"cpu\")\n",
    "diff_small = diff[(diff>-10)&(diff<10)].to(device)\n",
    "diff_rate = len(diff_small)/len(diff)\n",
    "DIFF_MAE = np.linalg.norm(diff_small, ord = 1) / len(diff_small)\n",
    "print(\"Validation: MAE: {:.4f}, Percentage of points retained:{:.4f}% \".format(\n",
    "    DIFF_MAE, diff_rate*100\n",
    "    ))\n",
    "\n",
    "fig, ax = plt.subplots()\n",
    "plt.scatter(labels_all.cpu(),diff.cpu(),s=5)\n",
    "# plt.legend(['Tr Accuracy', 'Val Accuracy'])\n",
    "plt.xlabel('labels /5nm')\n",
    "plt.ylabel('diff /5nm')\n",
    "# plt.ylim(0, 1)\n",
    "# plt.savefig(\"C:\\\\Users\\\\nanolab115\\Desktop\\\\\"+\"diff1.png\")\n",
    "plt.show()\n",
    "fig.savefig('Diff_2022_06_23_01_Train2SingleAugument_16_step5_cut3DataSet.svg',dpi = 300, format = 'svg')\n",
    "\n",
    "fig, ax = plt.subplots()\n",
    "plt.scatter(labels_all.cpu(),predictions_all.cpu(),s=5)\n",
    "# plt.legend(['Tr Accuracy', 'Val Accuracy'])\n",
    "plt.xlabel('labels /5nm')\n",
    "plt.ylabel('predictions /5nm')\n",
    "# plt.ylim(0, 1)\n",
    "# plt.savefig(\"C:\\\\Users\\\\nanolab115\\Desktop\\\\\"+\"diff1.png\")\n",
    "plt.show()\n",
    "fig.savefig('Predictions_2022_06_23_01_Train2SingleAugument_16_step5_cut3DataSet.svg',dpi = 300, format = 'svg')\n",
    "\n",
    "fig, ax = plt.subplots()\n",
    "plt.scatter(labels_all.cpu(),diff.cpu(),s=5)\n",
    "# plt.legend(['Tr Accuracy', 'Val Accuracy'])\n",
    "plt.xlabel('labels /5nm')\n",
    "plt.ylabel('diff /5nm')\n",
    "plt.ylim(-10, 10)\n",
    "# plt.savefig(\"C:\\\\Users\\\\nanolab115\\Desktop\\\\\"+\"diff1.png\")\n",
    "plt.show()\n",
    "fig.savefig('Diff_small_2022_06_23_01_Train2SingleAugument_16_step5_cut3DataSet.svg',dpi = 300, format = 'svg')"
   ]
  },
  {
   "cell_type": "markdown",
   "metadata": {},
   "source": [
    "测试组：用未训练的 0104-2组 进行测试\n",
    "-"
   ]
  },
  {
   "cell_type": "code",
   "execution_count": 11,
   "metadata": {},
   "outputs": [
    {
     "name": "stdout",
     "output_type": "stream",
     "text": [
      "Validation: valid_data_size: 1060.0000\n",
      "Validation: Loss: 931.1895, Accuracy: 0.0000%\n"
     ]
    },
    {
     "data": {
      "image/png": "[encoded data removed]",
      "text/plain": [
       "<Figure size 432x288 with 1 Axes>"
      ]
     },
     "metadata": {
      "needs_background": "light"
     },
     "output_type": "display_data"
    },
    {
     "data": {
      "image/png": "[encoded data removed]",
      "text/plain": [
       "<Figure size 432x288 with 1 Axes>"
      ]
     },
     "metadata": {
      "needs_background": "light"
     },
     "output_type": "display_data"
    }
   ],
   "source": [
    "from __future__ import print_function, division\n",
    "\n",
    "import torch\n",
    "import torch.nn as nn\n",
    "import torch.optim as optim\n",
    "from torch.utils.data import DataLoader\n",
    "from torch.optim import lr_scheduler\n",
    "import torch.backends.cudnn as cudnn\n",
    "import numpy as np\n",
    "import torchvision\n",
    "from torchvision import datasets, models, transforms\n",
    "import matplotlib.pyplot as plt\n",
    "import time\n",
    "import os\n",
    "import copy\n",
    "\n",
    "cudnn.benchmark = True\n",
    "plt.ion()   # interactive mode\n",
    "\n",
    "# Data augmentation and normalization for training\n",
    "# Just normalization for validation\n",
    "image_transforms  = {\n",
    "    'train': transforms.Compose([\n",
    "        transforms.RandomResizedCrop(size=256, scale=(0.8, 1.0)),\n",
    "        transforms.RandomRotation(degrees = 45),\n",
    "        transforms.RandomHorizontalFlip(),\n",
    "        transforms.CenterCrop(size=224),\n",
    "        transforms.ToTensor(),\n",
    "        transforms.Normalize([0.485, 0.456, 0.406], [0.229, 0.224, 0.225])\n",
    "    ]),\n",
    "    'valid': transforms.Compose([\n",
    "        transforms.Resize(size=256),\n",
    "        transforms.CenterCrop(size=224),\n",
    "        transforms.ToTensor(),\n",
    "        transforms.Normalize([0.485, 0.456, 0.406], [0.229, 0.224, 0.225])\n",
    "    ])\n",
    "}\n",
    "\n",
    "# dataset = 'E:\\gmd_data\\microsphere2_dataAugmented'\n",
    "dataset = 'E:\\gmd_data\\GMD_0104_2_DATA' # 测试集 0104-2\n",
    "# dataset = 'E:\\gmd_data\\GMD_0104_3_DATA' # 测试集 0104-3\n",
    "# dataset = 'E:\\gmd_data\\\\fangdai_MixTest' # 防呆测试 0104-2-3混合\n",
    "# dataset = 'E:\\gmd_data\\GMD_0104_2_DATA_TEST' # 测试集 0104-2 50-8650 照明测试\n",
    "\n",
    "# train_directory = os.path.join(dataset, 'train')\n",
    "valid_directory = os.path.join(dataset, 'valid')\n",
    "\n",
    "batch_size = 32\n",
    "# num_classes = 173\n",
    "# class Datset():\n",
    "#     def __getitem(self,index):\n",
    "        \n",
    "#         return image_torch\n",
    "#     def __len__(self):\n",
    "#         pass\n",
    "\n",
    "# data = {\n",
    "#     # 'train': datasets.ImageFolder(root=train_directory, transform=image_transforms['train']),\n",
    "#     'valid':Datset(root=valid_directory, transform=image_transforms['valid'])\n",
    "\n",
    "# }\n",
    "data = {\n",
    "    # 'train': datasets.ImageFolder(root=train_directory, transform=image_transforms['train']),\n",
    "    'valid': datasets.ImageFolder(root=valid_directory, transform=image_transforms['valid'])\n",
    "\n",
    "}\n",
    "\n",
    "\n",
    "\n",
    "# train_data_size = len(data['train'])\n",
    "valid_data_size = len(data['valid'])\n",
    "\n",
    "# train_data = DataLoader(data['train'], batch_size=batch_size, shuffle=True)\n",
    "valid_data = DataLoader(data['valid'], batch_size=batch_size, shuffle=True)\n",
    "\n",
    "print(\"Validation: valid_data_size: {:.4f}\".format(\n",
    "    valid_data_size\n",
    "))\n",
    "\n",
    "\n",
    "# 导入模型 将验证集和真值对比图画出来\n",
    "dataset = 'E:\\gmd_data\\microsphere2_dataAugmented'\n",
    "model38 = torch.load( dataset+'/models/'+'model_38.pt')\n",
    "for param in model38.parameters():\n",
    "    param.requires_grad = False\n",
    "model38 = model38.to('cuda:0')\n",
    "loss_function = nn.NLLLoss()\n",
    "\n",
    "\n",
    "\n",
    "device = torch.device(\"cuda:0\" if torch.cuda.is_available() else \"cpu\")\n",
    "history = []\n",
    "best_acc = 0.0\n",
    "best_epoch = 0\n",
    "\n",
    "\n",
    "valid_loss = 0.0\n",
    "valid_acc = 0.0\n",
    "\n",
    "predictions_all = torch.tensor([]).to(device)\n",
    "labels_all = torch.tensor([]).to(device)\n",
    "\n",
    "with torch.no_grad():\n",
    "    model38.eval()\n",
    "    for j, (inputs, labels) in enumerate(valid_data):\n",
    "        inputs = inputs.to(device)\n",
    "        labels = labels.to(device)\n",
    "\n",
    "        outputs = model38(inputs)\n",
    "\n",
    "        loss = loss_function(outputs, labels)\n",
    "        # print(\"valid_data_j: {}\".format(j))\n",
    "        # print(\"Outputs : \")\n",
    "        # print(outputs)\n",
    "        # print(\"labels ：\")\n",
    "        # print(labels)\n",
    "        # print(\"loss ：\")\n",
    "        # print(loss)\n",
    "\n",
    "        valid_loss += loss.item() * inputs.size(0)\n",
    "\n",
    "        ret, predictions = torch.max(outputs.data, 1)\n",
    "\n",
    "        predictions_all = torch.cat((predictions_all,predictions),dim=0)\n",
    "        labels_all = torch.cat((labels_all,labels),dim=0)\n",
    "\n",
    "        correct_counts = predictions.eq(labels.data.view_as(predictions))\n",
    "\n",
    "        acc = torch.mean(correct_counts.type(torch.FloatTensor))\n",
    "\n",
    "        valid_acc += acc.item() * inputs.size(0)\n",
    "\n",
    "avg_valid_loss = valid_loss/valid_data_size\n",
    "avg_valid_acc = valid_acc/valid_data_size\n",
    "\n",
    "avg_valid_loss = valid_loss/valid_data_size\n",
    "avg_valid_acc = valid_acc/valid_data_size\n",
    "\n",
    "# plot\n",
    "history.append([avg_valid_loss, avg_valid_acc])\n",
    "\n",
    "print(\"Validation: Loss: {:.4f}, Accuracy: {:.4f}%\".format(\n",
    "    avg_valid_loss, avg_valid_acc*100\n",
    "))\n",
    "# print(\"Validation: MSE: {:.4f}\".format( ))\n",
    "\n",
    "diff = predictions_all - labels_all\n",
    "conc_all = torch.cat((labels_all,predictions_all,diff),dim=0)\n",
    "\n",
    "plt.scatter(labels_all[0:50000].cpu(),diff[0:50000].cpu(),s=5)\n",
    "# plt.legend(['Tr Accuracy', 'Val Accuracy'])\n",
    "plt.xlabel('labels')\n",
    "plt.ylabel('diff')\n",
    "# plt.ylim(0, 1)\n",
    "# plt.savefig(\"C:\\\\Users\\\\nanolab115\\Desktop\\\\\"+\"diff1.png\")\n",
    "plt.show()\n",
    "\n",
    "plt.scatter(labels_all.cpu(),predictions_all.cpu(),s=5)\n",
    "# plt.legend(['Tr Accuracy', 'Val Accuracy'])\n",
    "plt.xlabel('labels')\n",
    "plt.ylabel('predictions')\n",
    "# plt.ylim(0, 1)\n",
    "# plt.savefig(\"C:\\\\Users\\\\nanolab115\\Desktop\\\\\"+\"diff1.png\")\n",
    "plt.show()"
   ]
  },
  {
   "cell_type": "markdown",
   "metadata": {},
   "source": [
    "Test Command\n",
    "------\n"
   ]
  },
  {
   "cell_type": "code",
   "execution_count": 12,
   "metadata": {},
   "outputs": [
    {
     "name": "stdout",
     "output_type": "stream",
     "text": [
      "num: tensor([148, 148, 148, 148], device='cuda:0') value: tensor([0., 0., 0., 0.], device='cuda:0')\n"
     ]
    }
   ],
   "source": [
    "value,num = torch.max(outputs, 1)\n",
    "print(\"num:\",num,\"value:\",value)\n"
   ]
  },
  {
   "cell_type": "code",
   "execution_count": 13,
   "metadata": {},
   "outputs": [
    {
     "name": "stdout",
     "output_type": "stream",
     "text": [
      "outputs: tensor([[ -351.2668,  -973.8725,  -764.9099,  -640.0015,  -504.9979,  -454.4819,\n",
      "          -339.5540,  -266.9993,  -219.8134,  -303.4277,  -438.5500,  -195.6255,\n",
      "          -681.2841,  -824.3527, -1090.5336, -1201.3979, -1183.9504, -1310.7225,\n",
      "         -1287.2673, -1280.6128, -1260.8097, -1222.4388,  -308.9716, -1314.4506,\n",
      "         -1252.1018, -1574.3258, -1564.3737, -1574.4531, -1327.0447, -1284.4587,\n",
      "          -926.1189,  -745.0117,  -576.5895,  -229.7789,  -396.6804,  -472.3846,\n",
      "          -514.8936,  -744.8950,  -865.6696,  -871.2866, -1046.7197, -1324.6970,\n",
      "         -1603.0510, -1620.7592,  -367.9890, -1387.1034, -1256.1277, -1135.6356,\n",
      "         -1052.8574, -1081.2194, -1029.6642, -1081.0746,  -981.6948, -1060.3214,\n",
      "         -1196.7916,  -620.9381, -1127.5012, -1124.9696,  -984.3215,  -800.0749,\n",
      "          -389.3513,  -252.8829,  -432.3701,  -561.2480,  -657.8389,  -924.4231,\n",
      "          -489.4842,  -820.3997,  -812.8976, -1054.9248, -1230.9481, -1173.0333,\n",
      "          -943.5822, -1021.4533,  -899.1130,  -731.2993,  -896.0785,  -686.5505,\n",
      "          -576.9089, -1081.2432, -1166.5964,  -858.4026,  -869.5082,  -741.9274,\n",
      "          -773.7761,  -880.7570,  -631.2642,  -583.4440,  -380.7933,  -782.7749,\n",
      "         -1052.4642, -1226.6207, -1232.8350, -1105.9083, -1252.3359, -1244.1993,\n",
      "         -1270.0881, -1300.9362, -1637.2838, -1427.6316,  -797.0811, -1371.7972,\n",
      "         -1620.4185, -1631.2102, -1575.9689, -1460.6571, -1725.4467, -1548.1954,\n",
      "         -1390.9679, -1476.5728, -1492.5490,  -834.0363, -1490.7999, -1358.3147,\n",
      "         -1423.6808, -1468.8462, -1437.7051, -1627.4426, -1839.0023, -1883.8073,\n",
      "         -1768.4082, -1726.6224,  -888.8358, -1666.5212, -1536.6279, -1667.3267,\n",
      "         -1829.9095, -1647.1854, -1449.9529, -1096.6243,  -986.5214,  -940.0858,\n",
      "         -1271.0535, -1108.4132, -1388.7406, -1485.5948, -1401.0466, -1251.9996,\n",
      "         -1080.7988,  -961.6984,  -747.8441,  -612.3820,  -337.9388,  -253.5517,\n",
      "         -1171.2791,  -173.0418,  -153.6882,   -41.8828,     0.0000,   -80.8832,\n",
      "          -151.4693,  -313.3544,  -270.6367,  -351.9741,  -590.7764, -1139.1304,\n",
      "          -603.7767,  -779.7577, -1001.6990, -1039.5106, -1188.1169, -1066.0704,\n",
      "          -946.4310,  -881.0395,  -961.4040, -1047.5858, -1367.0085, -1298.1959,\n",
      "          -996.4675, -1183.1168, -1456.5963, -1279.9098, -1227.2870],\n",
      "        [ -334.9619,  -925.0086,  -726.5100,  -607.3763,  -478.2512,  -430.2258,\n",
      "          -321.0077,  -252.3561,  -207.3938,  -284.8973,  -412.4263,  -187.5387,\n",
      "          -641.1801,  -776.7892, -1029.0790, -1134.1449, -1118.9885, -1239.3391,\n",
      "         -1217.0284, -1210.1879, -1194.4513, -1157.9125,  -295.3431, -1242.8124,\n",
      "         -1184.8860, -1488.0276, -1478.6576, -1488.1523, -1254.4674, -1214.9191,\n",
      "          -876.1210,  -704.9493,  -545.2145,  -220.3201,  -375.3982,  -446.7667,\n",
      "          -486.2865,  -703.8505,  -817.1861,  -823.2183,  -988.5261, -1250.9219,\n",
      "         -1515.4840, -1532.1602,  -351.6689, -1310.8013, -1188.5746, -1073.4473,\n",
      "          -996.2843, -1023.0894,  -975.6256, -1025.8787,  -930.8239, -1004.7087,\n",
      "         -1133.8654,  -591.0959, -1068.4142, -1064.3055,  -931.1541,  -756.1544,\n",
      "          -367.3926,  -239.8559,  -411.0227,  -533.9195,  -624.9857,  -877.9694,\n",
      "          -466.3560,  -778.9877,  -771.2518, -1001.1899, -1167.6826, -1113.6177,\n",
      "          -896.5914,  -970.0422,  -851.1307,  -692.1088,  -849.4687,  -652.8465,\n",
      "          -546.4424, -1023.9537, -1104.2689,  -813.2034,  -823.9824,  -701.0164,\n",
      "          -731.8000,  -834.0363,  -598.3712,  -552.5631,  -362.7086,  -743.3882,\n",
      "          -998.4060, -1162.7333, -1167.6519, -1045.9595, -1184.6804, -1176.7417,\n",
      "         -1202.0712, -1231.1812, -1549.9562, -1352.1969,  -757.7582, -1299.4115,\n",
      "         -1535.2421, -1545.7039, -1493.5592, -1383.5488, -1634.6881, -1467.8163,\n",
      "         -1319.6821, -1399.4987, -1415.2714,  -791.6646, -1413.9612, -1288.2352,\n",
      "         -1349.6299, -1392.3549, -1362.7261, -1542.4473, -1742.6522, -1784.4122,\n",
      "         -1673.3483, -1632.4996,  -844.0474, -1574.6683, -1451.0681, -1574.6998,\n",
      "         -1729.3510, -1557.8369, -1372.1943, -1037.7371,  -933.3865,  -887.8690,\n",
      "         -1200.4172, -1051.4434, -1311.3221, -1402.3060, -1322.0416, -1180.7528,\n",
      "         -1018.7378,  -906.6711,  -704.2054,  -576.2182,  -316.7893,  -238.2117,\n",
      "         -1111.3384,  -162.3925,  -143.9672,   -38.9649,     0.0000,   -76.7761,\n",
      "          -143.9888,  -296.5875,  -254.5723,  -330.5734,  -556.1705, -1081.5430,\n",
      "          -568.4542,  -735.1012,  -945.3431,  -981.2361, -1122.4907, -1006.8511,\n",
      "          -896.0355,  -834.8427,  -910.0764,  -990.6147, -1296.9219, -1228.2960,\n",
      "          -945.6531, -1121.7560, -1380.8813, -1214.8661, -1164.9689],\n",
      "        [ -359.9370, -1004.4713,  -788.4727,  -660.1584,  -521.3560,  -469.3801,\n",
      "          -350.9869,  -276.1260,  -227.6098,  -316.8400,  -456.9203,  -199.2158,\n",
      "          -709.9192,  -857.4767, -1132.4943, -1247.2592, -1227.4457, -1358.8202,\n",
      "         -1334.9347, -1329.2104, -1304.4094, -1265.4619,  -315.8029, -1363.9669,\n",
      "         -1297.9220, -1634.8710, -1624.4591, -1634.9398, -1377.9423, -1333.5991,\n",
      "          -961.7617,  -773.7269,  -599.6206,  -233.9786,  -412.5460,  -491.6064,\n",
      "          -536.3654,  -774.7025,  -901.3773,  -906.3214, -1088.8452, -1377.6754,\n",
      "         -1664.1005, -1682.6068,  -376.4031, -1440.3088, -1301.7446, -1178.0776,\n",
      "         -1090.5670, -1120.1135, -1064.8365, -1116.0878, -1013.7495, -1096.0441,\n",
      "         -1238.5227,  -638.5651, -1165.8719, -1165.9238, -1020.1982,  -830.1181,\n",
      "          -404.9708,  -261.2509,  -446.3352,  -579.5801,  -680.2928,  -956.1602,\n",
      "          -503.7095,  -848.6866,  -842.0375, -1091.6965, -1273.4058, -1212.9342,\n",
      "          -975.1494, -1056.2838,  -932.4407,  -757.7164,  -927.0167,  -708.1858,\n",
      "          -596.6600, -1119.8136, -1208.8632,  -888.2468,  -899.2718,  -770.7792,\n",
      "          -803.1586,  -912.2299,  -653.4079,  -604.7222,  -390.7657,  -808.7142,\n",
      "         -1088.8235, -1269.7754, -1277.0990, -1147.3247, -1298.6134, -1290.1450,\n",
      "         -1315.3583, -1347.6064, -1696.3347, -1479.0372,  -822.2831, -1421.7123,\n",
      "         -1678.9269, -1689.2651, -1631.7064, -1512.4814, -1787.1332, -1602.5554,\n",
      "         -1439.2563, -1528.0770, -1544.1680,  -861.3458, -1540.2584, -1403.5681,\n",
      "         -1471.6378, -1518.6160, -1486.3113, -1682.6262, -1901.3081, -1949.3649,\n",
      "         -1832.1626, -1790.6433,  -917.5348, -1729.2462, -1595.4362, -1730.9644,\n",
      "         -1896.9944, -1706.1354, -1500.6279, -1134.6410, -1020.5855,  -974.3373,\n",
      "         -1318.7837, -1145.6333, -1441.6611, -1542.9169, -1455.8188, -1301.9552,\n",
      "         -1124.8246, -1000.3707,  -778.9455,  -638.1728,  -353.4952,  -264.7169,\n",
      "         -1210.4210,  -180.9096,  -160.9287,   -44.1846,     0.0000,   -83.3912,\n",
      "          -155.6166,  -323.5243,  -281.2930,  -366.7235,  -614.3561, -1176.5312,\n",
      "          -627.8287,  -809.6801, -1039.6705, -1078.6512, -1231.2549, -1104.6793,\n",
      "          -977.6564,  -909.1113,  -994.1081, -1084.4369, -1413.0442, -1343.3264,\n",
      "         -1027.9701, -1222.3170, -1505.9757, -1322.5591, -1267.4727],\n",
      "        [ -321.0547,  -887.6551,  -697.4194,  -583.1083,  -458.9284,  -412.8859,\n",
      "          -308.1066,  -242.1495,  -198.8411,  -271.6122,  -393.6384,  -179.9121,\n",
      "          -611.8128,  -742.0453,  -984.0587, -1084.8483, -1071.2650, -1186.5826,\n",
      "         -1165.0127, -1157.7953, -1144.2382, -1108.3523,  -283.4995, -1188.3342,\n",
      "         -1133.4275, -1422.7028, -1414.0310, -1423.1980, -1199.4746, -1162.2303,\n",
      "          -837.7814,  -674.3351,  -521.1003,  -211.6602,  -358.7302,  -426.6525,\n",
      "          -464.3316,  -672.5646,  -779.9236,  -785.6818,  -943.2330, -1194.8069,\n",
      "         -1448.0156, -1464.4109,  -337.7429, -1252.6591, -1136.0541, -1025.5878,\n",
      "          -952.0654,  -977.5175,  -932.9674,  -981.6744,  -890.3208,  -960.3466,\n",
      "         -1083.3358,  -566.8414, -1021.0889, -1015.6435,  -888.2915,  -720.7562,\n",
      "          -349.3016,  -228.5293,  -392.8683,  -510.9172,  -597.9189,  -840.2872,\n",
      "          -447.0309,  -745.9697,  -738.4404,  -958.8848, -1118.2261, -1066.4408,\n",
      "          -858.5206,  -928.4165,  -813.0209,  -661.0627,  -812.6679,  -625.5740,\n",
      "          -522.2803,  -979.2283, -1055.8656,  -777.8982,  -788.3307,  -669.5490,\n",
      "          -699.4063,  -798.0084,  -572.7764,  -528.7287,  -347.4823,  -712.2338,\n",
      "          -955.8902, -1113.2382, -1117.5955, -1000.2086, -1133.1984, -1125.4641,\n",
      "         -1150.4417, -1178.9146, -1484.3789, -1294.9187,  -726.5397, -1243.8572,\n",
      "         -1469.9481, -1480.3927, -1430.3945, -1324.3154, -1564.1403, -1404.4401,\n",
      "         -1262.6211, -1338.3920, -1353.7129,  -758.8604, -1353.0304, -1233.1638,\n",
      "         -1292.1479, -1333.8960, -1305.5031, -1477.9904, -1670.1649, -1709.8647,\n",
      "         -1602.3979, -1562.3219,  -809.3964, -1506.1538, -1387.7954, -1505.3232,\n",
      "         -1654.0328, -1490.5931, -1313.0289,  -992.7043,  -892.4909,  -847.2648,\n",
      "         -1145.9304, -1008.2243, -1251.5260, -1338.0219, -1260.8840, -1125.6328,\n",
      "          -970.6440,  -863.3836,  -670.0106,  -547.9420,  -300.2952,  -225.9484,\n",
      "         -1065.4475,  -153.7573,  -136.1559,   -36.5374,     0.0000,   -73.9014,\n",
      "          -138.4698,  -284.2816,  -243.0533,  -315.0370,  -530.6232, -1036.9598,\n",
      "          -541.9676,  -701.7155,  -903.0245,  -937.3510, -1072.6414,  -960.8585,\n",
      "          -856.2878,  -798.6123,  -870.2933,  -947.7861, -1243.2266, -1175.9772,\n",
      "          -906.6189, -1075.5934, -1323.8397, -1164.7494, -1117.2096]],\n",
      "       device='cuda:0')\n",
      "outputs1: tensor([[ -351.2668,  -973.8725,  -764.9099,  ..., -1456.5963, -1279.9098,\n",
      "         -1227.2870],\n",
      "        [ -334.9619,  -925.0086,  -726.5100,  ..., -1380.8813, -1214.8661,\n",
      "         -1164.9689],\n",
      "        [ -359.9370, -1004.4713,  -788.4727,  ..., -1505.9757, -1322.5591,\n",
      "         -1267.4727],\n",
      "        ...,\n",
      "        [ -334.9619,  -925.0086,  -726.5100,  ..., -1380.8813, -1214.8661,\n",
      "         -1164.9689],\n",
      "        [ -359.9370, -1004.4713,  -788.4727,  ..., -1505.9757, -1322.5591,\n",
      "         -1267.4727],\n",
      "        [ -321.0547,  -887.6551,  -697.4194,  ..., -1323.8397, -1164.7494,\n",
      "         -1117.2096]], device='cuda:0')\n",
      "num: tensor([148, 148, 148, 148, 148, 148, 148, 148], device='cuda:0') value: tensor([0., 0., 0., 0., 0., 0., 0., 0.], device='cuda:0')\n"
     ]
    }
   ],
   "source": [
    "print(\"outputs:\",outputs)\n",
    "\n",
    "outputs1 = torch.cat((outputs,outputs),dim=0)\n",
    "print(\"outputs1:\",outputs1)\n",
    "\n",
    "value,num = torch.max(outputs1, 1)\n",
    "print(\"num:\",num,\"value:\",value)\n"
   ]
  },
  {
   "cell_type": "code",
   "execution_count": 14,
   "metadata": {},
   "outputs": [],
   "source": [
    "num2 = torch.tensor([]).to(device)\n",
    "num1 = torch.cat((num2,num),dim=0)"
   ]
  },
  {
   "cell_type": "code",
   "execution_count": 15,
   "metadata": {},
   "outputs": [
    {
     "name": "stdout",
     "output_type": "stream",
     "text": [
      "C:\\Users\\nanolab115\\Desktop\\diff1.png\n"
     ]
    }
   ],
   "source": [
    "print('C:\\\\Users\\\\nanolab115\\Desktop\\\\'+'diff1.png')"
   ]
  },
  {
   "cell_type": "code",
   "execution_count": 16,
   "metadata": {},
   "outputs": [
    {
     "name": "stdout",
     "output_type": "stream",
     "text": [
      "Requirement already satisfied: pygal in d:\\anacondagmd\\envs\\d2l\\lib\\site-packages (3.0.0)Note: you may need to restart the kernel to use updated packages.\n",
      "\n"
     ]
    }
   ],
   "source": [
    "pip install pygal\n"
   ]
  }
 ],
 "metadata": {
  "colab": {
   "collapsed_sections": [],
   "name": "“transfer_learning_tutorial.ipynb”的副本",
   "provenance": [],
   "toc_visible": true
  },
  "kernelspec": {
   "display_name": "Python 3.8.12 ('d2l')",
   "language": "python",
   "name": "python3"
  },
  "language_info": {
   "codemirror_mode": {
    "name": "ipython",
    "version": 3
   },
   "file_extension": ".py",
   "mimetype": "text/x-python",
   "name": "python",
   "nbconvert_exporter": "python",
   "pygments_lexer": "ipython3",
   "version": "3.8.12"
  },
  "vscode": {
   "interpreter": {
    "hash": "7061942769f3c9a2293758efea8903f9b6d180f2fa67ad14b24cc360ad6c0f14"
   }
  }
 },
 "nbformat": 4,
 "nbformat_minor": 1
}
